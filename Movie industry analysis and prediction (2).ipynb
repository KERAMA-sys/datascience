{
 "cells": [
  {
   "cell_type": "code",
   "execution_count": 1,
   "id": "482a305b-9759-4ea9-be10-42bbf9e0b5c4",
   "metadata": {},
   "outputs": [],
   "source": [
    "import pandas as pd \n",
    "import numpy as np\n",
    "import seaborn as sns\n",
    "import matplotlib.pyplot as plt\n",
    "%matplotlib inline\n",
    "sns.set_style('whitegrid')"
   ]
  },
  {
   "cell_type": "code",
   "execution_count": 2,
   "id": "ddfb5f19-0461-4f7d-a3c6-c6ac362b35d9",
   "metadata": {},
   "outputs": [
    {
     "data": {
      "text/html": [
       "<div>\n",
       "<style scoped>\n",
       "    .dataframe tbody tr th:only-of-type {\n",
       "        vertical-align: middle;\n",
       "    }\n",
       "\n",
       "    .dataframe tbody tr th {\n",
       "        vertical-align: top;\n",
       "    }\n",
       "\n",
       "    .dataframe thead th {\n",
       "        text-align: right;\n",
       "    }\n",
       "</style>\n",
       "<table border=\"1\" class=\"dataframe\">\n",
       "  <thead>\n",
       "    <tr style=\"text-align: right;\">\n",
       "      <th></th>\n",
       "      <th>tconst</th>\n",
       "      <th>primary_title</th>\n",
       "      <th>start_year</th>\n",
       "      <th>runtime_minutes</th>\n",
       "      <th>genres</th>\n",
       "    </tr>\n",
       "  </thead>\n",
       "  <tbody>\n",
       "    <tr>\n",
       "      <th>0</th>\n",
       "      <td>tt0063540</td>\n",
       "      <td>sunghursh</td>\n",
       "      <td>2013</td>\n",
       "      <td>175.0</td>\n",
       "      <td>Action,Crime,Drama</td>\n",
       "    </tr>\n",
       "    <tr>\n",
       "      <th>1</th>\n",
       "      <td>tt0066787</td>\n",
       "      <td>one day before the rainy season</td>\n",
       "      <td>2019</td>\n",
       "      <td>114.0</td>\n",
       "      <td>Biography,Drama</td>\n",
       "    </tr>\n",
       "    <tr>\n",
       "      <th>2</th>\n",
       "      <td>tt0069049</td>\n",
       "      <td>the other side of the wind</td>\n",
       "      <td>2018</td>\n",
       "      <td>122.0</td>\n",
       "      <td>Drama</td>\n",
       "    </tr>\n",
       "    <tr>\n",
       "      <th>3</th>\n",
       "      <td>tt0100275</td>\n",
       "      <td>the wandering soap opera</td>\n",
       "      <td>2017</td>\n",
       "      <td>80.0</td>\n",
       "      <td>Comedy,Drama,Fantasy</td>\n",
       "    </tr>\n",
       "    <tr>\n",
       "      <th>4</th>\n",
       "      <td>tt0111414</td>\n",
       "      <td>a thin life</td>\n",
       "      <td>2018</td>\n",
       "      <td>75.0</td>\n",
       "      <td>Comedy</td>\n",
       "    </tr>\n",
       "  </tbody>\n",
       "</table>\n",
       "</div>"
      ],
      "text/plain": [
       "      tconst                    primary_title  start_year  runtime_minutes  \\\n",
       "0  tt0063540                        sunghursh        2013            175.0   \n",
       "1  tt0066787  one day before the rainy season        2019            114.0   \n",
       "2  tt0069049       the other side of the wind        2018            122.0   \n",
       "3  tt0100275         the wandering soap opera        2017             80.0   \n",
       "4  tt0111414                      a thin life        2018             75.0   \n",
       "\n",
       "                 genres  \n",
       "0    Action,Crime,Drama  \n",
       "1       Biography,Drama  \n",
       "2                 Drama  \n",
       "3  Comedy,Drama,Fantasy  \n",
       "4                Comedy  "
      ]
     },
     "execution_count": 2,
     "metadata": {},
     "output_type": "execute_result"
    }
   ],
   "source": [
    "#loading the data\n",
    "#and presenting the first five datasets in each of the csv files\n",
    "df_basic = pd.read_csv(r\"C:\\Users\\ADMIN\\OneDrive\\Desktop\\MOVIE INDUSTRY ANALYSIS\\cleaned_title_basics.csv\")\n",
    "df_basic.head()"
   ]
  },
  {
   "cell_type": "code",
   "execution_count": 3,
   "id": "c68d7db2-388c-49f4-9605-65b4c8a57335",
   "metadata": {},
   "outputs": [
    {
     "data": {
      "text/html": [
       "<div>\n",
       "<style scoped>\n",
       "    .dataframe tbody tr th:only-of-type {\n",
       "        vertical-align: middle;\n",
       "    }\n",
       "\n",
       "    .dataframe tbody tr th {\n",
       "        vertical-align: top;\n",
       "    }\n",
       "\n",
       "    .dataframe thead th {\n",
       "        text-align: right;\n",
       "    }\n",
       "</style>\n",
       "<table border=\"1\" class=\"dataframe\">\n",
       "  <thead>\n",
       "    <tr style=\"text-align: right;\">\n",
       "      <th></th>\n",
       "      <th>tconst</th>\n",
       "      <th>averagerating</th>\n",
       "      <th>numvotes</th>\n",
       "    </tr>\n",
       "  </thead>\n",
       "  <tbody>\n",
       "    <tr>\n",
       "      <th>0</th>\n",
       "      <td>tt10356526</td>\n",
       "      <td>8.3</td>\n",
       "      <td>31</td>\n",
       "    </tr>\n",
       "    <tr>\n",
       "      <th>1</th>\n",
       "      <td>tt10384606</td>\n",
       "      <td>8.9</td>\n",
       "      <td>559</td>\n",
       "    </tr>\n",
       "    <tr>\n",
       "      <th>2</th>\n",
       "      <td>tt1042974</td>\n",
       "      <td>6.4</td>\n",
       "      <td>20</td>\n",
       "    </tr>\n",
       "    <tr>\n",
       "      <th>3</th>\n",
       "      <td>tt1043726</td>\n",
       "      <td>4.2</td>\n",
       "      <td>50352</td>\n",
       "    </tr>\n",
       "    <tr>\n",
       "      <th>4</th>\n",
       "      <td>tt1060240</td>\n",
       "      <td>6.5</td>\n",
       "      <td>21</td>\n",
       "    </tr>\n",
       "  </tbody>\n",
       "</table>\n",
       "</div>"
      ],
      "text/plain": [
       "       tconst  averagerating  numvotes\n",
       "0  tt10356526            8.3        31\n",
       "1  tt10384606            8.9       559\n",
       "2   tt1042974            6.4        20\n",
       "3   tt1043726            4.2     50352\n",
       "4   tt1060240            6.5        21"
      ]
     },
     "execution_count": 3,
     "metadata": {},
     "output_type": "execute_result"
    }
   ],
   "source": [
    "df_ratings = pd.read_csv(r\"C:\\Users\\ADMIN\\OneDrive\\Desktop\\MOVIE INDUSTRY ANALYSIS\\cleaned_title_ratings.csv\")\n",
    "df_ratings.head()"
   ]
  },
  {
   "cell_type": "code",
   "execution_count": 4,
   "id": "0e9c5621-23ca-4982-843d-04541872fa05",
   "metadata": {},
   "outputs": [
    {
     "data": {
      "text/html": [
       "<div>\n",
       "<style scoped>\n",
       "    .dataframe tbody tr th:only-of-type {\n",
       "        vertical-align: middle;\n",
       "    }\n",
       "\n",
       "    .dataframe tbody tr th {\n",
       "        vertical-align: top;\n",
       "    }\n",
       "\n",
       "    .dataframe thead th {\n",
       "        text-align: right;\n",
       "    }\n",
       "</style>\n",
       "<table border=\"1\" class=\"dataframe\">\n",
       "  <thead>\n",
       "    <tr style=\"text-align: right;\">\n",
       "      <th></th>\n",
       "      <th>release_date</th>\n",
       "      <th>movie</th>\n",
       "      <th>production_budget</th>\n",
       "      <th>domestic_gross</th>\n",
       "      <th>worldwide_gross</th>\n",
       "      <th>approx_profit</th>\n",
       "      <th>approx_profit_perc</th>\n",
       "      <th>year_of_release</th>\n",
       "      <th>month_of_release</th>\n",
       "    </tr>\n",
       "  </thead>\n",
       "  <tbody>\n",
       "    <tr>\n",
       "      <th>0</th>\n",
       "      <td>2009-12-18</td>\n",
       "      <td>avatar</td>\n",
       "      <td>425000000</td>\n",
       "      <td>760507625</td>\n",
       "      <td>2776345279</td>\n",
       "      <td>2351345279</td>\n",
       "      <td>553.26</td>\n",
       "      <td>2009</td>\n",
       "      <td>12</td>\n",
       "    </tr>\n",
       "    <tr>\n",
       "      <th>1</th>\n",
       "      <td>2011-05-20</td>\n",
       "      <td>pirates of the caribbean: on stranger tides</td>\n",
       "      <td>410600000</td>\n",
       "      <td>241063875</td>\n",
       "      <td>1045663875</td>\n",
       "      <td>635063875</td>\n",
       "      <td>154.67</td>\n",
       "      <td>2011</td>\n",
       "      <td>5</td>\n",
       "    </tr>\n",
       "    <tr>\n",
       "      <th>2</th>\n",
       "      <td>2019-06-07</td>\n",
       "      <td>dark phoenix</td>\n",
       "      <td>350000000</td>\n",
       "      <td>42762350</td>\n",
       "      <td>149762350</td>\n",
       "      <td>-200237650</td>\n",
       "      <td>-57.21</td>\n",
       "      <td>2019</td>\n",
       "      <td>6</td>\n",
       "    </tr>\n",
       "    <tr>\n",
       "      <th>3</th>\n",
       "      <td>2015-05-01</td>\n",
       "      <td>avengers: age of ultron</td>\n",
       "      <td>330600000</td>\n",
       "      <td>459005868</td>\n",
       "      <td>1403013963</td>\n",
       "      <td>1072413963</td>\n",
       "      <td>324.38</td>\n",
       "      <td>2015</td>\n",
       "      <td>5</td>\n",
       "    </tr>\n",
       "    <tr>\n",
       "      <th>4</th>\n",
       "      <td>2017-12-15</td>\n",
       "      <td>star wars ep. viii: the last jedi</td>\n",
       "      <td>317000000</td>\n",
       "      <td>620181382</td>\n",
       "      <td>1316721747</td>\n",
       "      <td>999721747</td>\n",
       "      <td>315.37</td>\n",
       "      <td>2017</td>\n",
       "      <td>12</td>\n",
       "    </tr>\n",
       "  </tbody>\n",
       "</table>\n",
       "</div>"
      ],
      "text/plain": [
       "  release_date                                        movie  \\\n",
       "0   2009-12-18                                       avatar   \n",
       "1   2011-05-20  pirates of the caribbean: on stranger tides   \n",
       "2   2019-06-07                                 dark phoenix   \n",
       "3   2015-05-01                      avengers: age of ultron   \n",
       "4   2017-12-15            star wars ep. viii: the last jedi   \n",
       "\n",
       "   production_budget  domestic_gross  worldwide_gross  approx_profit  \\\n",
       "0          425000000       760507625       2776345279     2351345279   \n",
       "1          410600000       241063875       1045663875      635063875   \n",
       "2          350000000        42762350        149762350     -200237650   \n",
       "3          330600000       459005868       1403013963     1072413963   \n",
       "4          317000000       620181382       1316721747      999721747   \n",
       "\n",
       "   approx_profit_perc  year_of_release  month_of_release  \n",
       "0              553.26             2009                12  \n",
       "1              154.67             2011                 5  \n",
       "2              -57.21             2019                 6  \n",
       "3              324.38             2015                 5  \n",
       "4              315.37             2017                12  "
      ]
     },
     "execution_count": 4,
     "metadata": {},
     "output_type": "execute_result"
    }
   ],
   "source": [
    "df_budget = pd.read_csv(r\"C:\\Users\\ADMIN\\OneDrive\\Desktop\\MOVIE INDUSTRY ANALYSIS\\cleaned_movie_budgets.csv\")\n",
    "df_budget.head()"
   ]
  },
  {
   "cell_type": "code",
   "execution_count": 5,
   "id": "45fc7705-d28e-4b22-a9b7-9d7f31e5d1b4",
   "metadata": {},
   "outputs": [
    {
     "name": "stdout",
     "output_type": "stream",
     "text": [
      "<class 'pandas.core.frame.DataFrame'>\n",
      "RangeIndex: 61710 entries, 0 to 61709\n",
      "Data columns (total 3 columns):\n",
      " #   Column         Non-Null Count  Dtype  \n",
      "---  ------         --------------  -----  \n",
      " 0   tconst         61710 non-null  object \n",
      " 1   averagerating  61710 non-null  float64\n",
      " 2   numvotes       61710 non-null  int64  \n",
      "dtypes: float64(1), int64(1), object(1)\n",
      "memory usage: 1.4+ MB\n"
     ]
    }
   ],
   "source": [
    "#checking on the info of the dataset\n",
    "df_ratings.info()"
   ]
  },
  {
   "cell_type": "code",
   "execution_count": 6,
   "id": "258ffbba-b455-4a18-b4e0-659821a65882",
   "metadata": {},
   "outputs": [
    {
     "name": "stdout",
     "output_type": "stream",
     "text": [
      "<class 'pandas.core.frame.DataFrame'>\n",
      "RangeIndex: 5222 entries, 0 to 5221\n",
      "Data columns (total 9 columns):\n",
      " #   Column              Non-Null Count  Dtype  \n",
      "---  ------              --------------  -----  \n",
      " 0   release_date        5222 non-null   object \n",
      " 1   movie               5222 non-null   object \n",
      " 2   production_budget   5222 non-null   int64  \n",
      " 3   domestic_gross      5222 non-null   int64  \n",
      " 4   worldwide_gross     5222 non-null   int64  \n",
      " 5   approx_profit       5222 non-null   int64  \n",
      " 6   approx_profit_perc  5222 non-null   float64\n",
      " 7   year_of_release     5222 non-null   int64  \n",
      " 8   month_of_release    5222 non-null   int64  \n",
      "dtypes: float64(1), int64(6), object(2)\n",
      "memory usage: 367.3+ KB\n"
     ]
    }
   ],
   "source": [
    "df_budget.info()"
   ]
  },
  {
   "cell_type": "code",
   "execution_count": 7,
   "id": "918987c5-9c9a-4946-9f78-9246a817cf6f",
   "metadata": {},
   "outputs": [
    {
     "name": "stdout",
     "output_type": "stream",
     "text": [
      "<class 'pandas.core.frame.DataFrame'>\n",
      "RangeIndex: 112233 entries, 0 to 112232\n",
      "Data columns (total 5 columns):\n",
      " #   Column           Non-Null Count   Dtype  \n",
      "---  ------           --------------   -----  \n",
      " 0   tconst           112233 non-null  object \n",
      " 1   primary_title    112233 non-null  object \n",
      " 2   start_year       112233 non-null  int64  \n",
      " 3   runtime_minutes  112233 non-null  float64\n",
      " 4   genres           112233 non-null  object \n",
      "dtypes: float64(1), int64(1), object(3)\n",
      "memory usage: 4.3+ MB\n"
     ]
    }
   ],
   "source": [
    "df_basic.info()\n"
   ]
  },
  {
   "cell_type": "code",
   "execution_count": 8,
   "id": "01f939e9-5008-4ffa-b4d5-2676208c4be6",
   "metadata": {},
   "outputs": [
    {
     "data": {
      "text/html": [
       "<div>\n",
       "<style scoped>\n",
       "    .dataframe tbody tr th:only-of-type {\n",
       "        vertical-align: middle;\n",
       "    }\n",
       "\n",
       "    .dataframe tbody tr th {\n",
       "        vertical-align: top;\n",
       "    }\n",
       "\n",
       "    .dataframe thead th {\n",
       "        text-align: right;\n",
       "    }\n",
       "</style>\n",
       "<table border=\"1\" class=\"dataframe\">\n",
       "  <thead>\n",
       "    <tr style=\"text-align: right;\">\n",
       "      <th></th>\n",
       "      <th>primary_title</th>\n",
       "      <th>release_date</th>\n",
       "      <th>production_budget</th>\n",
       "      <th>domestic_gross</th>\n",
       "      <th>worldwide_gross</th>\n",
       "      <th>approx_profit</th>\n",
       "      <th>approx_profit_perc</th>\n",
       "      <th>year_of_release</th>\n",
       "      <th>month_of_release</th>\n",
       "    </tr>\n",
       "  </thead>\n",
       "  <tbody>\n",
       "    <tr>\n",
       "      <th>0</th>\n",
       "      <td>avatar</td>\n",
       "      <td>2009-12-18</td>\n",
       "      <td>425000000</td>\n",
       "      <td>760507625</td>\n",
       "      <td>2776345279</td>\n",
       "      <td>2351345279</td>\n",
       "      <td>553.26</td>\n",
       "      <td>2009</td>\n",
       "      <td>12</td>\n",
       "    </tr>\n",
       "    <tr>\n",
       "      <th>1</th>\n",
       "      <td>pirates of the caribbean: on stranger tides</td>\n",
       "      <td>2011-05-20</td>\n",
       "      <td>410600000</td>\n",
       "      <td>241063875</td>\n",
       "      <td>1045663875</td>\n",
       "      <td>635063875</td>\n",
       "      <td>154.67</td>\n",
       "      <td>2011</td>\n",
       "      <td>5</td>\n",
       "    </tr>\n",
       "    <tr>\n",
       "      <th>2</th>\n",
       "      <td>dark phoenix</td>\n",
       "      <td>2019-06-07</td>\n",
       "      <td>350000000</td>\n",
       "      <td>42762350</td>\n",
       "      <td>149762350</td>\n",
       "      <td>-200237650</td>\n",
       "      <td>-57.21</td>\n",
       "      <td>2019</td>\n",
       "      <td>6</td>\n",
       "    </tr>\n",
       "    <tr>\n",
       "      <th>3</th>\n",
       "      <td>avengers: age of ultron</td>\n",
       "      <td>2015-05-01</td>\n",
       "      <td>330600000</td>\n",
       "      <td>459005868</td>\n",
       "      <td>1403013963</td>\n",
       "      <td>1072413963</td>\n",
       "      <td>324.38</td>\n",
       "      <td>2015</td>\n",
       "      <td>5</td>\n",
       "    </tr>\n",
       "    <tr>\n",
       "      <th>4</th>\n",
       "      <td>star wars ep. viii: the last jedi</td>\n",
       "      <td>2017-12-15</td>\n",
       "      <td>317000000</td>\n",
       "      <td>620181382</td>\n",
       "      <td>1316721747</td>\n",
       "      <td>999721747</td>\n",
       "      <td>315.37</td>\n",
       "      <td>2017</td>\n",
       "      <td>12</td>\n",
       "    </tr>\n",
       "    <tr>\n",
       "      <th>...</th>\n",
       "      <td>...</td>\n",
       "      <td>...</td>\n",
       "      <td>...</td>\n",
       "      <td>...</td>\n",
       "      <td>...</td>\n",
       "      <td>...</td>\n",
       "      <td>...</td>\n",
       "      <td>...</td>\n",
       "      <td>...</td>\n",
       "    </tr>\n",
       "    <tr>\n",
       "      <th>5217</th>\n",
       "      <td>primer</td>\n",
       "      <td>2004-10-08</td>\n",
       "      <td>7000</td>\n",
       "      <td>424760</td>\n",
       "      <td>841926</td>\n",
       "      <td>834926</td>\n",
       "      <td>11927.51</td>\n",
       "      <td>2004</td>\n",
       "      <td>10</td>\n",
       "    </tr>\n",
       "    <tr>\n",
       "      <th>5218</th>\n",
       "      <td>cavite</td>\n",
       "      <td>2006-05-26</td>\n",
       "      <td>7000</td>\n",
       "      <td>70071</td>\n",
       "      <td>71644</td>\n",
       "      <td>64644</td>\n",
       "      <td>923.49</td>\n",
       "      <td>2006</td>\n",
       "      <td>5</td>\n",
       "    </tr>\n",
       "    <tr>\n",
       "      <th>5219</th>\n",
       "      <td>following</td>\n",
       "      <td>1999-04-02</td>\n",
       "      <td>6000</td>\n",
       "      <td>48482</td>\n",
       "      <td>240495</td>\n",
       "      <td>234495</td>\n",
       "      <td>3908.25</td>\n",
       "      <td>1999</td>\n",
       "      <td>4</td>\n",
       "    </tr>\n",
       "    <tr>\n",
       "      <th>5220</th>\n",
       "      <td>return to the land of wonders</td>\n",
       "      <td>2005-07-13</td>\n",
       "      <td>5000</td>\n",
       "      <td>1338</td>\n",
       "      <td>1338</td>\n",
       "      <td>-3662</td>\n",
       "      <td>-73.24</td>\n",
       "      <td>2005</td>\n",
       "      <td>7</td>\n",
       "    </tr>\n",
       "    <tr>\n",
       "      <th>5221</th>\n",
       "      <td>my date with drew</td>\n",
       "      <td>2005-08-05</td>\n",
       "      <td>1100</td>\n",
       "      <td>181041</td>\n",
       "      <td>181041</td>\n",
       "      <td>179941</td>\n",
       "      <td>16358.27</td>\n",
       "      <td>2005</td>\n",
       "      <td>8</td>\n",
       "    </tr>\n",
       "  </tbody>\n",
       "</table>\n",
       "<p>5222 rows × 9 columns</p>\n",
       "</div>"
      ],
      "text/plain": [
       "                                    primary_title release_date  \\\n",
       "0                                          avatar   2009-12-18   \n",
       "1     pirates of the caribbean: on stranger tides   2011-05-20   \n",
       "2                                    dark phoenix   2019-06-07   \n",
       "3                         avengers: age of ultron   2015-05-01   \n",
       "4               star wars ep. viii: the last jedi   2017-12-15   \n",
       "...                                           ...          ...   \n",
       "5217                                       primer   2004-10-08   \n",
       "5218                                       cavite   2006-05-26   \n",
       "5219                                    following   1999-04-02   \n",
       "5220                return to the land of wonders   2005-07-13   \n",
       "5221                            my date with drew   2005-08-05   \n",
       "\n",
       "      production_budget  domestic_gross  worldwide_gross  approx_profit  \\\n",
       "0             425000000       760507625       2776345279     2351345279   \n",
       "1             410600000       241063875       1045663875      635063875   \n",
       "2             350000000        42762350        149762350     -200237650   \n",
       "3             330600000       459005868       1403013963     1072413963   \n",
       "4             317000000       620181382       1316721747      999721747   \n",
       "...                 ...             ...              ...            ...   \n",
       "5217               7000          424760           841926         834926   \n",
       "5218               7000           70071            71644          64644   \n",
       "5219               6000           48482           240495         234495   \n",
       "5220               5000            1338             1338          -3662   \n",
       "5221               1100          181041           181041         179941   \n",
       "\n",
       "      approx_profit_perc  year_of_release  month_of_release  \n",
       "0                 553.26             2009                12  \n",
       "1                 154.67             2011                 5  \n",
       "2                 -57.21             2019                 6  \n",
       "3                 324.38             2015                 5  \n",
       "4                 315.37             2017                12  \n",
       "...                  ...              ...               ...  \n",
       "5217            11927.51             2004                10  \n",
       "5218              923.49             2006                 5  \n",
       "5219             3908.25             1999                 4  \n",
       "5220              -73.24             2005                 7  \n",
       "5221            16358.27             2005                 8  \n",
       "\n",
       "[5222 rows x 9 columns]"
      ]
     },
     "execution_count": 8,
     "metadata": {},
     "output_type": "execute_result"
    }
   ],
   "source": [
    "#creating a budget dataframe \n",
    "budget = {\"primary_title\" : df_budget[\"movie\"],\n",
    "                \"release_date\" : df_budget['release_date'],\n",
    "                \"production_budget\" : df_budget['production_budget'],\n",
    "                \"domestic_gross\" :df_budget['domestic_gross'],\n",
    "                 \"worldwide_gross\" : df_budget['worldwide_gross'],\n",
    "                \"approx_profit\" : df_budget['approx_profit'],\n",
    "                \"approx_profit_perc\" : df_budget['approx_profit_perc'],\n",
    "                \"year_of_release\" : df_budget['year_of_release'],\n",
    "                 \"month_of_release\" : df_budget['month_of_release']}\n",
    "budget_df= pd.DataFrame(budget)\n",
    "budget_df"
   ]
  },
  {
   "cell_type": "code",
   "execution_count": 9,
   "id": "e84d6265-56e5-494c-86e5-0e81b1981f65",
   "metadata": {},
   "outputs": [
    {
     "data": {
      "text/html": [
       "<div>\n",
       "<style scoped>\n",
       "    .dataframe tbody tr th:only-of-type {\n",
       "        vertical-align: middle;\n",
       "    }\n",
       "\n",
       "    .dataframe tbody tr th {\n",
       "        vertical-align: top;\n",
       "    }\n",
       "\n",
       "    .dataframe thead th {\n",
       "        text-align: right;\n",
       "    }\n",
       "</style>\n",
       "<table border=\"1\" class=\"dataframe\">\n",
       "  <thead>\n",
       "    <tr style=\"text-align: right;\">\n",
       "      <th></th>\n",
       "      <th>tconst</th>\n",
       "      <th>primary_title</th>\n",
       "      <th>start_year</th>\n",
       "      <th>runtime_minutes</th>\n",
       "      <th>genres</th>\n",
       "      <th>release_date</th>\n",
       "      <th>production_budget</th>\n",
       "      <th>domestic_gross</th>\n",
       "      <th>worldwide_gross</th>\n",
       "      <th>approx_profit</th>\n",
       "      <th>approx_profit_perc</th>\n",
       "      <th>year_of_release</th>\n",
       "      <th>month_of_release</th>\n",
       "    </tr>\n",
       "  </thead>\n",
       "  <tbody>\n",
       "    <tr>\n",
       "      <th>0</th>\n",
       "      <td>tt0337692</td>\n",
       "      <td>on the road</td>\n",
       "      <td>2012</td>\n",
       "      <td>124.0</td>\n",
       "      <td>Adventure,Drama,Romance</td>\n",
       "      <td>2013-03-22</td>\n",
       "      <td>25000000</td>\n",
       "      <td>720828</td>\n",
       "      <td>9313302</td>\n",
       "      <td>-15686698</td>\n",
       "      <td>-62.75</td>\n",
       "      <td>2013</td>\n",
       "      <td>3</td>\n",
       "    </tr>\n",
       "    <tr>\n",
       "      <th>1</th>\n",
       "      <td>tt2404548</td>\n",
       "      <td>on the road</td>\n",
       "      <td>2011</td>\n",
       "      <td>90.0</td>\n",
       "      <td>Drama</td>\n",
       "      <td>2013-03-22</td>\n",
       "      <td>25000000</td>\n",
       "      <td>720828</td>\n",
       "      <td>9313302</td>\n",
       "      <td>-15686698</td>\n",
       "      <td>-62.75</td>\n",
       "      <td>2013</td>\n",
       "      <td>3</td>\n",
       "    </tr>\n",
       "    <tr>\n",
       "      <th>2</th>\n",
       "      <td>tt3872966</td>\n",
       "      <td>on the road</td>\n",
       "      <td>2013</td>\n",
       "      <td>87.0</td>\n",
       "      <td>Documentary</td>\n",
       "      <td>2013-03-22</td>\n",
       "      <td>25000000</td>\n",
       "      <td>720828</td>\n",
       "      <td>9313302</td>\n",
       "      <td>-15686698</td>\n",
       "      <td>-62.75</td>\n",
       "      <td>2013</td>\n",
       "      <td>3</td>\n",
       "    </tr>\n",
       "    <tr>\n",
       "      <th>3</th>\n",
       "      <td>tt4339118</td>\n",
       "      <td>on the road</td>\n",
       "      <td>2014</td>\n",
       "      <td>89.0</td>\n",
       "      <td>Drama</td>\n",
       "      <td>2013-03-22</td>\n",
       "      <td>25000000</td>\n",
       "      <td>720828</td>\n",
       "      <td>9313302</td>\n",
       "      <td>-15686698</td>\n",
       "      <td>-62.75</td>\n",
       "      <td>2013</td>\n",
       "      <td>3</td>\n",
       "    </tr>\n",
       "    <tr>\n",
       "      <th>4</th>\n",
       "      <td>tt5389486</td>\n",
       "      <td>on the road</td>\n",
       "      <td>2015</td>\n",
       "      <td>39.0</td>\n",
       "      <td>Documentary</td>\n",
       "      <td>2013-03-22</td>\n",
       "      <td>25000000</td>\n",
       "      <td>720828</td>\n",
       "      <td>9313302</td>\n",
       "      <td>-15686698</td>\n",
       "      <td>-62.75</td>\n",
       "      <td>2013</td>\n",
       "      <td>3</td>\n",
       "    </tr>\n",
       "    <tr>\n",
       "      <th>...</th>\n",
       "      <td>...</td>\n",
       "      <td>...</td>\n",
       "      <td>...</td>\n",
       "      <td>...</td>\n",
       "      <td>...</td>\n",
       "      <td>...</td>\n",
       "      <td>...</td>\n",
       "      <td>...</td>\n",
       "      <td>...</td>\n",
       "      <td>...</td>\n",
       "      <td>...</td>\n",
       "      <td>...</td>\n",
       "      <td>...</td>\n",
       "    </tr>\n",
       "    <tr>\n",
       "      <th>2900</th>\n",
       "      <td>tt9313936</td>\n",
       "      <td>stay alive</td>\n",
       "      <td>2019</td>\n",
       "      <td>72.0</td>\n",
       "      <td>Documentary</td>\n",
       "      <td>2006-03-24</td>\n",
       "      <td>20000000</td>\n",
       "      <td>23086480</td>\n",
       "      <td>23187506</td>\n",
       "      <td>3187506</td>\n",
       "      <td>15.94</td>\n",
       "      <td>2006</td>\n",
       "      <td>3</td>\n",
       "    </tr>\n",
       "    <tr>\n",
       "      <th>2901</th>\n",
       "      <td>tt9398746</td>\n",
       "      <td>darkness</td>\n",
       "      <td>2019</td>\n",
       "      <td>98.0</td>\n",
       "      <td>Sci-Fi</td>\n",
       "      <td>2004-12-25</td>\n",
       "      <td>10600000</td>\n",
       "      <td>22163442</td>\n",
       "      <td>34409206</td>\n",
       "      <td>23809206</td>\n",
       "      <td>224.62</td>\n",
       "      <td>2004</td>\n",
       "      <td>12</td>\n",
       "    </tr>\n",
       "    <tr>\n",
       "      <th>2902</th>\n",
       "      <td>tt9607270</td>\n",
       "      <td>the blue bird</td>\n",
       "      <td>2015</td>\n",
       "      <td>84.0</td>\n",
       "      <td>Drama</td>\n",
       "      <td>1976-01-01</td>\n",
       "      <td>1200000</td>\n",
       "      <td>887000</td>\n",
       "      <td>887000</td>\n",
       "      <td>-313000</td>\n",
       "      <td>-26.08</td>\n",
       "      <td>1976</td>\n",
       "      <td>1</td>\n",
       "    </tr>\n",
       "    <tr>\n",
       "      <th>2903</th>\n",
       "      <td>tt9805168</td>\n",
       "      <td>traitor</td>\n",
       "      <td>2015</td>\n",
       "      <td>110.0</td>\n",
       "      <td>Action,Drama,Romance</td>\n",
       "      <td>2008-08-27</td>\n",
       "      <td>22000000</td>\n",
       "      <td>23530831</td>\n",
       "      <td>27882226</td>\n",
       "      <td>5882226</td>\n",
       "      <td>26.74</td>\n",
       "      <td>2008</td>\n",
       "      <td>8</td>\n",
       "    </tr>\n",
       "    <tr>\n",
       "      <th>2904</th>\n",
       "      <td>tt9844102</td>\n",
       "      <td>ray</td>\n",
       "      <td>2018</td>\n",
       "      <td>111.0</td>\n",
       "      <td>Crime</td>\n",
       "      <td>2004-10-29</td>\n",
       "      <td>40000000</td>\n",
       "      <td>75305995</td>\n",
       "      <td>124823094</td>\n",
       "      <td>84823094</td>\n",
       "      <td>212.06</td>\n",
       "      <td>2004</td>\n",
       "      <td>10</td>\n",
       "    </tr>\n",
       "  </tbody>\n",
       "</table>\n",
       "<p>2905 rows × 13 columns</p>\n",
       "</div>"
      ],
      "text/plain": [
       "         tconst  primary_title  start_year  runtime_minutes  \\\n",
       "0     tt0337692    on the road        2012            124.0   \n",
       "1     tt2404548    on the road        2011             90.0   \n",
       "2     tt3872966    on the road        2013             87.0   \n",
       "3     tt4339118    on the road        2014             89.0   \n",
       "4     tt5389486    on the road        2015             39.0   \n",
       "...         ...            ...         ...              ...   \n",
       "2900  tt9313936     stay alive        2019             72.0   \n",
       "2901  tt9398746       darkness        2019             98.0   \n",
       "2902  tt9607270  the blue bird        2015             84.0   \n",
       "2903  tt9805168        traitor        2015            110.0   \n",
       "2904  tt9844102            ray        2018            111.0   \n",
       "\n",
       "                       genres release_date  production_budget  domestic_gross  \\\n",
       "0     Adventure,Drama,Romance   2013-03-22           25000000          720828   \n",
       "1                       Drama   2013-03-22           25000000          720828   \n",
       "2                 Documentary   2013-03-22           25000000          720828   \n",
       "3                       Drama   2013-03-22           25000000          720828   \n",
       "4                 Documentary   2013-03-22           25000000          720828   \n",
       "...                       ...          ...                ...             ...   \n",
       "2900              Documentary   2006-03-24           20000000        23086480   \n",
       "2901                   Sci-Fi   2004-12-25           10600000        22163442   \n",
       "2902                    Drama   1976-01-01            1200000          887000   \n",
       "2903     Action,Drama,Romance   2008-08-27           22000000        23530831   \n",
       "2904                    Crime   2004-10-29           40000000        75305995   \n",
       "\n",
       "      worldwide_gross  approx_profit  approx_profit_perc  year_of_release  \\\n",
       "0             9313302      -15686698              -62.75             2013   \n",
       "1             9313302      -15686698              -62.75             2013   \n",
       "2             9313302      -15686698              -62.75             2013   \n",
       "3             9313302      -15686698              -62.75             2013   \n",
       "4             9313302      -15686698              -62.75             2013   \n",
       "...               ...            ...                 ...              ...   \n",
       "2900         23187506        3187506               15.94             2006   \n",
       "2901         34409206       23809206              224.62             2004   \n",
       "2902           887000        -313000              -26.08             1976   \n",
       "2903         27882226        5882226               26.74             2008   \n",
       "2904        124823094       84823094              212.06             2004   \n",
       "\n",
       "      month_of_release  \n",
       "0                    3  \n",
       "1                    3  \n",
       "2                    3  \n",
       "3                    3  \n",
       "4                    3  \n",
       "...                ...  \n",
       "2900                 3  \n",
       "2901                12  \n",
       "2902                 1  \n",
       "2903                 8  \n",
       "2904                10  \n",
       "\n",
       "[2905 rows x 13 columns]"
      ]
     },
     "execution_count": 9,
     "metadata": {},
     "output_type": "execute_result"
    }
   ],
   "source": [
    "#merge the two dataframes df.basic and df.budget\n",
    "movie_budget_title = pd.merge(df_basic,budget_df, how='inner', on ='primary_title')\n",
    "movie_budget_title"
   ]
  },
  {
   "cell_type": "code",
   "execution_count": 10,
   "id": "081e3916-bcad-4c2f-9fad-0c7d9a312daa",
   "metadata": {},
   "outputs": [],
   "source": [
    "#check the data for duplicates and difference in years \n",
    "#drop duplicates where difference of start_year and release_date is greater than three\n",
    "movie_budget_title.drop(movie_budget_title[\n",
    "    ((movie_budget_title['start_year'] - movie_budget_title['year_of_release']) > 3) |\n",
    "     ((movie_budget_title['start_year'] - movie_budget_title['year_of_release']) < -3)\n",
    "].index, inplace = True)"
   ]
  },
  {
   "cell_type": "code",
   "execution_count": 11,
   "id": "809da97b-e9e8-4ca0-971c-9a60e412c30e",
   "metadata": {},
   "outputs": [],
   "source": [
    "#drop the remaining duplicates whiuch contains the same information as movie and start_year\n",
    "movie_budget_title.drop('start_year',axis=1,inplace=True)"
   ]
  },
  {
   "cell_type": "code",
   "execution_count": 14,
   "id": "25b9b529-fbd3-4333-a3e4-4b48867a767a",
   "metadata": {},
   "outputs": [
    {
     "data": {
      "text/html": [
       "<div>\n",
       "<style scoped>\n",
       "    .dataframe tbody tr th:only-of-type {\n",
       "        vertical-align: middle;\n",
       "    }\n",
       "\n",
       "    .dataframe tbody tr th {\n",
       "        vertical-align: top;\n",
       "    }\n",
       "\n",
       "    .dataframe thead th {\n",
       "        text-align: right;\n",
       "    }\n",
       "</style>\n",
       "<table border=\"1\" class=\"dataframe\">\n",
       "  <thead>\n",
       "    <tr style=\"text-align: right;\">\n",
       "      <th></th>\n",
       "      <th>tconst</th>\n",
       "      <th>primary_title</th>\n",
       "      <th>runtime_minutes</th>\n",
       "      <th>genres</th>\n",
       "      <th>release_date</th>\n",
       "      <th>production_budget</th>\n",
       "      <th>domestic_gross</th>\n",
       "      <th>worldwide_gross</th>\n",
       "      <th>approx_profit</th>\n",
       "      <th>approx_profit_perc</th>\n",
       "      <th>year_of_release</th>\n",
       "      <th>month_of_release</th>\n",
       "    </tr>\n",
       "  </thead>\n",
       "  <tbody>\n",
       "    <tr>\n",
       "      <th>0</th>\n",
       "      <td>tt0337692</td>\n",
       "      <td>on the road</td>\n",
       "      <td>124.0</td>\n",
       "      <td>Adventure,Drama,Romance</td>\n",
       "      <td>2013-03-22</td>\n",
       "      <td>25000000</td>\n",
       "      <td>720828</td>\n",
       "      <td>9313302</td>\n",
       "      <td>-15686698</td>\n",
       "      <td>-62.75</td>\n",
       "      <td>2013</td>\n",
       "      <td>3</td>\n",
       "    </tr>\n",
       "    <tr>\n",
       "      <th>1</th>\n",
       "      <td>tt2404548</td>\n",
       "      <td>on the road</td>\n",
       "      <td>90.0</td>\n",
       "      <td>Drama</td>\n",
       "      <td>2013-03-22</td>\n",
       "      <td>25000000</td>\n",
       "      <td>720828</td>\n",
       "      <td>9313302</td>\n",
       "      <td>-15686698</td>\n",
       "      <td>-62.75</td>\n",
       "      <td>2013</td>\n",
       "      <td>3</td>\n",
       "    </tr>\n",
       "    <tr>\n",
       "      <th>2</th>\n",
       "      <td>tt3872966</td>\n",
       "      <td>on the road</td>\n",
       "      <td>87.0</td>\n",
       "      <td>Documentary</td>\n",
       "      <td>2013-03-22</td>\n",
       "      <td>25000000</td>\n",
       "      <td>720828</td>\n",
       "      <td>9313302</td>\n",
       "      <td>-15686698</td>\n",
       "      <td>-62.75</td>\n",
       "      <td>2013</td>\n",
       "      <td>3</td>\n",
       "    </tr>\n",
       "    <tr>\n",
       "      <th>3</th>\n",
       "      <td>tt4339118</td>\n",
       "      <td>on the road</td>\n",
       "      <td>89.0</td>\n",
       "      <td>Drama</td>\n",
       "      <td>2013-03-22</td>\n",
       "      <td>25000000</td>\n",
       "      <td>720828</td>\n",
       "      <td>9313302</td>\n",
       "      <td>-15686698</td>\n",
       "      <td>-62.75</td>\n",
       "      <td>2013</td>\n",
       "      <td>3</td>\n",
       "    </tr>\n",
       "    <tr>\n",
       "      <th>4</th>\n",
       "      <td>tt5389486</td>\n",
       "      <td>on the road</td>\n",
       "      <td>39.0</td>\n",
       "      <td>Documentary</td>\n",
       "      <td>2013-03-22</td>\n",
       "      <td>25000000</td>\n",
       "      <td>720828</td>\n",
       "      <td>9313302</td>\n",
       "      <td>-15686698</td>\n",
       "      <td>-62.75</td>\n",
       "      <td>2013</td>\n",
       "      <td>3</td>\n",
       "    </tr>\n",
       "    <tr>\n",
       "      <th>5</th>\n",
       "      <td>tt5647250</td>\n",
       "      <td>on the road</td>\n",
       "      <td>121.0</td>\n",
       "      <td>Drama</td>\n",
       "      <td>2013-03-22</td>\n",
       "      <td>25000000</td>\n",
       "      <td>720828</td>\n",
       "      <td>9313302</td>\n",
       "      <td>-15686698</td>\n",
       "      <td>-62.75</td>\n",
       "      <td>2013</td>\n",
       "      <td>3</td>\n",
       "    </tr>\n",
       "    <tr>\n",
       "      <th>6</th>\n",
       "      <td>tt0359950</td>\n",
       "      <td>the secret life of walter mitty</td>\n",
       "      <td>114.0</td>\n",
       "      <td>Adventure,Comedy,Drama</td>\n",
       "      <td>2013-12-25</td>\n",
       "      <td>91000000</td>\n",
       "      <td>58236838</td>\n",
       "      <td>187861183</td>\n",
       "      <td>96861183</td>\n",
       "      <td>106.44</td>\n",
       "      <td>2013</td>\n",
       "      <td>12</td>\n",
       "    </tr>\n",
       "    <tr>\n",
       "      <th>7</th>\n",
       "      <td>tt0365907</td>\n",
       "      <td>a walk among the tombstones</td>\n",
       "      <td>114.0</td>\n",
       "      <td>Action,Crime,Drama</td>\n",
       "      <td>2014-09-19</td>\n",
       "      <td>28000000</td>\n",
       "      <td>26017685</td>\n",
       "      <td>62108587</td>\n",
       "      <td>34108587</td>\n",
       "      <td>121.82</td>\n",
       "      <td>2014</td>\n",
       "      <td>9</td>\n",
       "    </tr>\n",
       "    <tr>\n",
       "      <th>8</th>\n",
       "      <td>tt0369610</td>\n",
       "      <td>jurassic world</td>\n",
       "      <td>124.0</td>\n",
       "      <td>Action,Adventure,Sci-Fi</td>\n",
       "      <td>2015-06-12</td>\n",
       "      <td>215000000</td>\n",
       "      <td>652270625</td>\n",
       "      <td>1648854864</td>\n",
       "      <td>1433854864</td>\n",
       "      <td>666.91</td>\n",
       "      <td>2015</td>\n",
       "      <td>6</td>\n",
       "    </tr>\n",
       "    <tr>\n",
       "      <th>9</th>\n",
       "      <td>tt0376136</td>\n",
       "      <td>the rum diary</td>\n",
       "      <td>119.0</td>\n",
       "      <td>Comedy,Drama</td>\n",
       "      <td>2011-10-28</td>\n",
       "      <td>45000000</td>\n",
       "      <td>13109815</td>\n",
       "      <td>21544732</td>\n",
       "      <td>-23455268</td>\n",
       "      <td>-52.12</td>\n",
       "      <td>2011</td>\n",
       "      <td>10</td>\n",
       "    </tr>\n",
       "  </tbody>\n",
       "</table>\n",
       "</div>"
      ],
      "text/plain": [
       "      tconst                    primary_title  runtime_minutes  \\\n",
       "0  tt0337692                      on the road            124.0   \n",
       "1  tt2404548                      on the road             90.0   \n",
       "2  tt3872966                      on the road             87.0   \n",
       "3  tt4339118                      on the road             89.0   \n",
       "4  tt5389486                      on the road             39.0   \n",
       "5  tt5647250                      on the road            121.0   \n",
       "6  tt0359950  the secret life of walter mitty            114.0   \n",
       "7  tt0365907      a walk among the tombstones            114.0   \n",
       "8  tt0369610                   jurassic world            124.0   \n",
       "9  tt0376136                    the rum diary            119.0   \n",
       "\n",
       "                    genres release_date  production_budget  domestic_gross  \\\n",
       "0  Adventure,Drama,Romance   2013-03-22           25000000          720828   \n",
       "1                    Drama   2013-03-22           25000000          720828   \n",
       "2              Documentary   2013-03-22           25000000          720828   \n",
       "3                    Drama   2013-03-22           25000000          720828   \n",
       "4              Documentary   2013-03-22           25000000          720828   \n",
       "5                    Drama   2013-03-22           25000000          720828   \n",
       "6   Adventure,Comedy,Drama   2013-12-25           91000000        58236838   \n",
       "7       Action,Crime,Drama   2014-09-19           28000000        26017685   \n",
       "8  Action,Adventure,Sci-Fi   2015-06-12          215000000       652270625   \n",
       "9             Comedy,Drama   2011-10-28           45000000        13109815   \n",
       "\n",
       "   worldwide_gross  approx_profit  approx_profit_perc  year_of_release  \\\n",
       "0          9313302      -15686698              -62.75             2013   \n",
       "1          9313302      -15686698              -62.75             2013   \n",
       "2          9313302      -15686698              -62.75             2013   \n",
       "3          9313302      -15686698              -62.75             2013   \n",
       "4          9313302      -15686698              -62.75             2013   \n",
       "5          9313302      -15686698              -62.75             2013   \n",
       "6        187861183       96861183              106.44             2013   \n",
       "7         62108587       34108587              121.82             2014   \n",
       "8       1648854864     1433854864              666.91             2015   \n",
       "9         21544732      -23455268              -52.12             2011   \n",
       "\n",
       "   month_of_release  \n",
       "0                 3  \n",
       "1                 3  \n",
       "2                 3  \n",
       "3                 3  \n",
       "4                 3  \n",
       "5                 3  \n",
       "6                12  \n",
       "7                 9  \n",
       "8                 6  \n",
       "9                10  "
      ]
     },
     "execution_count": 14,
     "metadata": {},
     "output_type": "execute_result"
    }
   ],
   "source": [
    "movie_budget_title.head(10)"
   ]
  },
  {
   "cell_type": "code",
   "execution_count": 15,
   "id": "03fd93d6-75c7-42ab-ba7f-488636095dcc",
   "metadata": {},
   "outputs": [],
   "source": [
    "movie_budget_title.drop_duplicates(subset='primary_title', inplace=True)"
   ]
  },
  {
   "cell_type": "code",
   "execution_count": 16,
   "id": "58a62f37-6e27-4c43-912b-d5badb4600cd",
   "metadata": {},
   "outputs": [
    {
     "data": {
      "text/html": [
       "<div>\n",
       "<style scoped>\n",
       "    .dataframe tbody tr th:only-of-type {\n",
       "        vertical-align: middle;\n",
       "    }\n",
       "\n",
       "    .dataframe tbody tr th {\n",
       "        vertical-align: top;\n",
       "    }\n",
       "\n",
       "    .dataframe thead th {\n",
       "        text-align: right;\n",
       "    }\n",
       "</style>\n",
       "<table border=\"1\" class=\"dataframe\">\n",
       "  <thead>\n",
       "    <tr style=\"text-align: right;\">\n",
       "      <th></th>\n",
       "      <th>tconst</th>\n",
       "      <th>averagerating</th>\n",
       "      <th>numvotes</th>\n",
       "      <th>primary_title</th>\n",
       "      <th>runtime_minutes</th>\n",
       "      <th>genres</th>\n",
       "      <th>release_date</th>\n",
       "      <th>production_budget</th>\n",
       "      <th>domestic_gross</th>\n",
       "      <th>worldwide_gross</th>\n",
       "      <th>approx_profit</th>\n",
       "      <th>approx_profit_perc</th>\n",
       "      <th>year_of_release</th>\n",
       "      <th>month_of_release</th>\n",
       "    </tr>\n",
       "  </thead>\n",
       "  <tbody>\n",
       "    <tr>\n",
       "      <th>0</th>\n",
       "      <td>tt1043726</td>\n",
       "      <td>4.2</td>\n",
       "      <td>50352</td>\n",
       "      <td>the legend of hercules</td>\n",
       "      <td>99.0</td>\n",
       "      <td>Action,Adventure,Fantasy</td>\n",
       "      <td>2014-01-10</td>\n",
       "      <td>70000000</td>\n",
       "      <td>18848538</td>\n",
       "      <td>58953319</td>\n",
       "      <td>-11046681</td>\n",
       "      <td>-15.78</td>\n",
       "      <td>2014</td>\n",
       "      <td>1</td>\n",
       "    </tr>\n",
       "    <tr>\n",
       "      <th>1</th>\n",
       "      <td>tt1094666</td>\n",
       "      <td>7.0</td>\n",
       "      <td>1613</td>\n",
       "      <td>the hammer</td>\n",
       "      <td>108.0</td>\n",
       "      <td>Biography,Drama,Sport</td>\n",
       "      <td>2008-03-21</td>\n",
       "      <td>850000</td>\n",
       "      <td>442638</td>\n",
       "      <td>442638</td>\n",
       "      <td>-407362</td>\n",
       "      <td>-47.92</td>\n",
       "      <td>2008</td>\n",
       "      <td>3</td>\n",
       "    </tr>\n",
       "    <tr>\n",
       "      <th>2</th>\n",
       "      <td>tt1171222</td>\n",
       "      <td>5.1</td>\n",
       "      <td>8296</td>\n",
       "      <td>baggage claim</td>\n",
       "      <td>96.0</td>\n",
       "      <td>Comedy</td>\n",
       "      <td>2013-09-27</td>\n",
       "      <td>8500000</td>\n",
       "      <td>21569509</td>\n",
       "      <td>22885836</td>\n",
       "      <td>14385836</td>\n",
       "      <td>169.25</td>\n",
       "      <td>2013</td>\n",
       "      <td>9</td>\n",
       "    </tr>\n",
       "    <tr>\n",
       "      <th>3</th>\n",
       "      <td>tt1210166</td>\n",
       "      <td>7.6</td>\n",
       "      <td>326657</td>\n",
       "      <td>moneyball</td>\n",
       "      <td>133.0</td>\n",
       "      <td>Biography,Drama,Sport</td>\n",
       "      <td>2011-09-23</td>\n",
       "      <td>50000000</td>\n",
       "      <td>75605492</td>\n",
       "      <td>111300835</td>\n",
       "      <td>61300835</td>\n",
       "      <td>122.60</td>\n",
       "      <td>2011</td>\n",
       "      <td>9</td>\n",
       "    </tr>\n",
       "    <tr>\n",
       "      <th>4</th>\n",
       "      <td>tt1212419</td>\n",
       "      <td>6.5</td>\n",
       "      <td>87288</td>\n",
       "      <td>hereafter</td>\n",
       "      <td>129.0</td>\n",
       "      <td>Drama,Fantasy,Romance</td>\n",
       "      <td>2010-10-15</td>\n",
       "      <td>50000000</td>\n",
       "      <td>32746941</td>\n",
       "      <td>108660270</td>\n",
       "      <td>58660270</td>\n",
       "      <td>117.32</td>\n",
       "      <td>2010</td>\n",
       "      <td>10</td>\n",
       "    </tr>\n",
       "  </tbody>\n",
       "</table>\n",
       "</div>"
      ],
      "text/plain": [
       "      tconst  averagerating  numvotes           primary_title  \\\n",
       "0  tt1043726            4.2     50352  the legend of hercules   \n",
       "1  tt1094666            7.0      1613              the hammer   \n",
       "2  tt1171222            5.1      8296           baggage claim   \n",
       "3  tt1210166            7.6    326657               moneyball   \n",
       "4  tt1212419            6.5     87288               hereafter   \n",
       "\n",
       "   runtime_minutes                    genres release_date  production_budget  \\\n",
       "0             99.0  Action,Adventure,Fantasy   2014-01-10           70000000   \n",
       "1            108.0     Biography,Drama,Sport   2008-03-21             850000   \n",
       "2             96.0                    Comedy   2013-09-27            8500000   \n",
       "3            133.0     Biography,Drama,Sport   2011-09-23           50000000   \n",
       "4            129.0     Drama,Fantasy,Romance   2010-10-15           50000000   \n",
       "\n",
       "   domestic_gross  worldwide_gross  approx_profit  approx_profit_perc  \\\n",
       "0        18848538         58953319      -11046681              -15.78   \n",
       "1          442638           442638        -407362              -47.92   \n",
       "2        21569509         22885836       14385836              169.25   \n",
       "3        75605492        111300835       61300835              122.60   \n",
       "4        32746941        108660270       58660270              117.32   \n",
       "\n",
       "   year_of_release  month_of_release  \n",
       "0             2014                 1  \n",
       "1             2008                 3  \n",
       "2             2013                 9  \n",
       "3             2011                 9  \n",
       "4             2010                10  "
      ]
     },
     "execution_count": 16,
     "metadata": {},
     "output_type": "execute_result"
    }
   ],
   "source": [
    "#after dropping the duplicates, we then merge the new dataset with \n",
    "#the ratings data so at to have the ratings and number of count per movie\n",
    "movie_budget_ratings = pd.merge(df_ratings,movie_budget_title, how='inner', on ='tconst')\n",
    "movie_budget_ratings.head()"
   ]
  },
  {
   "cell_type": "code",
   "execution_count": 17,
   "id": "5fee528c-770f-4fff-afe7-df0ada0fb4db",
   "metadata": {},
   "outputs": [
    {
     "data": {
      "text/html": [
       "<div>\n",
       "<style scoped>\n",
       "    .dataframe tbody tr th:only-of-type {\n",
       "        vertical-align: middle;\n",
       "    }\n",
       "\n",
       "    .dataframe tbody tr th {\n",
       "        vertical-align: top;\n",
       "    }\n",
       "\n",
       "    .dataframe thead th {\n",
       "        text-align: right;\n",
       "    }\n",
       "</style>\n",
       "<table border=\"1\" class=\"dataframe\">\n",
       "  <thead>\n",
       "    <tr style=\"text-align: right;\">\n",
       "      <th></th>\n",
       "      <th>averagerating</th>\n",
       "      <th>numvotes</th>\n",
       "      <th>runtime_minutes</th>\n",
       "      <th>production_budget</th>\n",
       "      <th>domestic_gross</th>\n",
       "      <th>worldwide_gross</th>\n",
       "      <th>approx_profit</th>\n",
       "      <th>approx_profit_perc</th>\n",
       "      <th>year_of_release</th>\n",
       "      <th>month_of_release</th>\n",
       "    </tr>\n",
       "  </thead>\n",
       "  <tbody>\n",
       "    <tr>\n",
       "      <th>count</th>\n",
       "      <td>1535.000000</td>\n",
       "      <td>1.535000e+03</td>\n",
       "      <td>1535.000000</td>\n",
       "      <td>1.535000e+03</td>\n",
       "      <td>1.535000e+03</td>\n",
       "      <td>1.535000e+03</td>\n",
       "      <td>1.535000e+03</td>\n",
       "      <td>1535.000000</td>\n",
       "      <td>1535.000000</td>\n",
       "      <td>1535.000000</td>\n",
       "    </tr>\n",
       "    <tr>\n",
       "      <th>mean</th>\n",
       "      <td>6.397980</td>\n",
       "      <td>1.164393e+05</td>\n",
       "      <td>107.788274</td>\n",
       "      <td>4.481370e+07</td>\n",
       "      <td>5.697095e+07</td>\n",
       "      <td>1.427475e+08</td>\n",
       "      <td>9.793377e+07</td>\n",
       "      <td>299.750951</td>\n",
       "      <td>2013.819544</td>\n",
       "      <td>6.715961</td>\n",
       "    </tr>\n",
       "    <tr>\n",
       "      <th>std</th>\n",
       "      <td>0.958148</td>\n",
       "      <td>1.626549e+05</td>\n",
       "      <td>17.388426</td>\n",
       "      <td>5.638937e+07</td>\n",
       "      <td>8.562920e+07</td>\n",
       "      <td>2.403160e+08</td>\n",
       "      <td>1.988316e+08</td>\n",
       "      <td>1237.764740</td>\n",
       "      <td>2.619879</td>\n",
       "      <td>3.404323</td>\n",
       "    </tr>\n",
       "    <tr>\n",
       "      <th>min</th>\n",
       "      <td>1.600000</td>\n",
       "      <td>1.000000e+01</td>\n",
       "      <td>41.000000</td>\n",
       "      <td>9.000000e+03</td>\n",
       "      <td>1.242000e+03</td>\n",
       "      <td>1.242000e+03</td>\n",
       "      <td>-2.002376e+08</td>\n",
       "      <td>-99.990000</td>\n",
       "      <td>2008.000000</td>\n",
       "      <td>1.000000</td>\n",
       "    </tr>\n",
       "    <tr>\n",
       "      <th>25%</th>\n",
       "      <td>5.800000</td>\n",
       "      <td>1.776700e+04</td>\n",
       "      <td>95.000000</td>\n",
       "      <td>8.500000e+06</td>\n",
       "      <td>4.941534e+06</td>\n",
       "      <td>1.125830e+07</td>\n",
       "      <td>-2.458510e+05</td>\n",
       "      <td>-9.210000</td>\n",
       "      <td>2012.000000</td>\n",
       "      <td>4.000000</td>\n",
       "    </tr>\n",
       "    <tr>\n",
       "      <th>50%</th>\n",
       "      <td>6.500000</td>\n",
       "      <td>6.030400e+04</td>\n",
       "      <td>105.000000</td>\n",
       "      <td>2.400000e+07</td>\n",
       "      <td>2.805104e+07</td>\n",
       "      <td>5.283799e+07</td>\n",
       "      <td>2.535839e+07</td>\n",
       "      <td>123.180000</td>\n",
       "      <td>2014.000000</td>\n",
       "      <td>7.000000</td>\n",
       "    </tr>\n",
       "    <tr>\n",
       "      <th>75%</th>\n",
       "      <td>7.100000</td>\n",
       "      <td>1.414610e+05</td>\n",
       "      <td>118.000000</td>\n",
       "      <td>5.500000e+07</td>\n",
       "      <td>6.768824e+07</td>\n",
       "      <td>1.588281e+08</td>\n",
       "      <td>1.031859e+08</td>\n",
       "      <td>312.545000</td>\n",
       "      <td>2016.000000</td>\n",
       "      <td>10.000000</td>\n",
       "    </tr>\n",
       "    <tr>\n",
       "      <th>max</th>\n",
       "      <td>8.800000</td>\n",
       "      <td>1.841066e+06</td>\n",
       "      <td>180.000000</td>\n",
       "      <td>4.250000e+08</td>\n",
       "      <td>7.605076e+08</td>\n",
       "      <td>2.776345e+09</td>\n",
       "      <td>2.351345e+09</td>\n",
       "      <td>41556.470000</td>\n",
       "      <td>2019.000000</td>\n",
       "      <td>12.000000</td>\n",
       "    </tr>\n",
       "  </tbody>\n",
       "</table>\n",
       "</div>"
      ],
      "text/plain": [
       "       averagerating      numvotes  runtime_minutes  production_budget  \\\n",
       "count    1535.000000  1.535000e+03      1535.000000       1.535000e+03   \n",
       "mean        6.397980  1.164393e+05       107.788274       4.481370e+07   \n",
       "std         0.958148  1.626549e+05        17.388426       5.638937e+07   \n",
       "min         1.600000  1.000000e+01        41.000000       9.000000e+03   \n",
       "25%         5.800000  1.776700e+04        95.000000       8.500000e+06   \n",
       "50%         6.500000  6.030400e+04       105.000000       2.400000e+07   \n",
       "75%         7.100000  1.414610e+05       118.000000       5.500000e+07   \n",
       "max         8.800000  1.841066e+06       180.000000       4.250000e+08   \n",
       "\n",
       "       domestic_gross  worldwide_gross  approx_profit  approx_profit_perc  \\\n",
       "count    1.535000e+03     1.535000e+03   1.535000e+03         1535.000000   \n",
       "mean     5.697095e+07     1.427475e+08   9.793377e+07          299.750951   \n",
       "std      8.562920e+07     2.403160e+08   1.988316e+08         1237.764740   \n",
       "min      1.242000e+03     1.242000e+03  -2.002376e+08          -99.990000   \n",
       "25%      4.941534e+06     1.125830e+07  -2.458510e+05           -9.210000   \n",
       "50%      2.805104e+07     5.283799e+07   2.535839e+07          123.180000   \n",
       "75%      6.768824e+07     1.588281e+08   1.031859e+08          312.545000   \n",
       "max      7.605076e+08     2.776345e+09   2.351345e+09        41556.470000   \n",
       "\n",
       "       year_of_release  month_of_release  \n",
       "count      1535.000000       1535.000000  \n",
       "mean       2013.819544          6.715961  \n",
       "std           2.619879          3.404323  \n",
       "min        2008.000000          1.000000  \n",
       "25%        2012.000000          4.000000  \n",
       "50%        2014.000000          7.000000  \n",
       "75%        2016.000000         10.000000  \n",
       "max        2019.000000         12.000000  "
      ]
     },
     "execution_count": 17,
     "metadata": {},
     "output_type": "execute_result"
    }
   ],
   "source": [
    "#we describe our dataset to have an overview of what it contains\n",
    "movie_budget_ratings.describe()"
   ]
  },
  {
   "cell_type": "code",
   "execution_count": 18,
   "id": "c32b5154-4673-451d-a120-593f40d5a57c",
   "metadata": {},
   "outputs": [
    {
     "data": {
      "text/plain": [
       "Text(0, 0.5, 'Gross Revenue [million]')"
      ]
     },
     "execution_count": 18,
     "metadata": {},
     "output_type": "execute_result"
    },
    {
     "data": {
      "image/png": "[encoded data removed]",
      "text/plain": [
       "<Figure size 432x288 with 1 Axes>"
      ]
     },
     "metadata": {},
     "output_type": "display_data"
    }
   ],
   "source": [
    "#we can now assess the correlation between the budget and worldwide gross revenue \n",
    "#made by the movies\n",
    "sns.regplot(x='production_budget', y='worldwide_gross', data=movie_budget_ratings, scatter_kws={'color':'red'}, line_kws={'color':'blue'})\n",
    "plt.title('Budget vs. Gross Revenue')\n",
    "\n",
    "plt.xlabel('Budget [million]')\n",
    "plt.ylabel('Gross Revenue [million]')"
   ]
  },
  {
   "cell_type": "markdown",
   "id": "1566d2c8-2ae2-4e2e-9b14-b669a94f0ea9",
   "metadata": {},
   "source": [
    "we can see that our revenue increases as our budget increases, upto about the 2Million mark, after which the production budget decreases abruptly."
   ]
  },
  {
   "cell_type": "code",
   "execution_count": 19,
   "id": "a251268a-deca-4c20-88e9-72c222d47666",
   "metadata": {},
   "outputs": [
    {
     "data": {
      "text/plain": [
       "<AxesSubplot:>"
      ]
     },
     "execution_count": 19,
     "metadata": {},
     "output_type": "execute_result"
    },
    {
     "data": {
      "image/png": "[encoded data removed]",
      "text/plain": [
       "<Figure size 432x288 with 2 Axes>"
      ]
     },
     "metadata": {},
     "output_type": "display_data"
    }
   ],
   "source": [
    "sns.heatmap(movie_budget_ratings.corr(),annot=True)"
   ]
  },
  {
   "cell_type": "code",
   "execution_count": 20,
   "id": "aa37f031-2961-4d0d-b1ea-c17926ddd691",
   "metadata": {},
   "outputs": [
    {
     "data": {
      "text/plain": [
       "Text(0, 0.5, 'Distribution [million]')"
      ]
     },
     "execution_count": 20,
     "metadata": {},
     "output_type": "execute_result"
    },
    {
     "data": {
      "image/png": "[encoded data removed]",
      "text/plain": [
       "<Figure size 1080x720 with 1 Axes>"
      ]
     },
     "metadata": {},
     "output_type": "display_data"
    }
   ],
   "source": [
    "#plot histogram of worldwide gross\n",
    "figure = plt.subplots(figsize=(15,10))\n",
    "sns.histplot(x='worldwide_gross', data=movie_budget_ratings, bins=20)\n",
    "plt.title('Worldwide Gross Distribution')\n",
    "\n",
    "plt.xlabel('Worldwide Gross [million]')\n",
    "plt.ylabel('Distribution [million]')"
   ]
  },
  {
   "cell_type": "markdown",
   "id": "816f71ff-8b58-4812-8067-93ff65501df5",
   "metadata": {},
   "source": [
    "from the above data we can see that the data is skewed to the left\n",
    "to handle that, median will be used to carry out the imputation.\n",
    "this is because the median value represents data population more than the mean value"
   ]
  },
  {
   "cell_type": "code",
   "execution_count": 21,
   "id": "11f1dda0-8b9f-4747-9484-667e61d4c792",
   "metadata": {},
   "outputs": [
    {
     "data": {
      "text/plain": [
       "52837989.0"
      ]
     },
     "execution_count": 21,
     "metadata": {},
     "output_type": "execute_result"
    }
   ],
   "source": [
    "movie_budget_ratings['worldwide_gross'].median()"
   ]
  },
  {
   "cell_type": "code",
   "execution_count": 22,
   "id": "02e853e9-af97-4246-b31d-1fb022ced572",
   "metadata": {},
   "outputs": [
    {
     "data": {
      "text/plain": [
       "24000000.0"
      ]
     },
     "execution_count": 22,
     "metadata": {},
     "output_type": "execute_result"
    }
   ],
   "source": [
    "movie_budget_ratings['production_budget'].median()"
   ]
  },
  {
   "cell_type": "code",
   "execution_count": 23,
   "id": "61f0635e-86b8-4cea-98cc-09b2da9b9244",
   "metadata": {},
   "outputs": [
    {
     "data": {
      "text/plain": [
       "Text(0, 0.5, 'Distribution [million]')"
      ]
     },
     "execution_count": 23,
     "metadata": {},
     "output_type": "execute_result"
    },
    {
     "data": {
      "image/png": "[encoded data removed]",
      "text/plain": [
       "<Figure size 1080x720 with 1 Axes>"
      ]
     },
     "metadata": {},
     "output_type": "display_data"
    }
   ],
   "source": [
    "figure = plt.subplots(figsize=(15,10))\n",
    "sns.histplot(x='production_budget', data=movie_budget_ratings, bins=20)\n",
    "plt.title('Production budget Distribution')\n",
    "\n",
    "plt.xlabel('Production budget [million]')\n",
    "plt.ylabel('Distribution [million]')"
   ]
  },
  {
   "cell_type": "code",
   "execution_count": 24,
   "id": "901a3344-30e7-46d9-9083-65ba448703ef",
   "metadata": {},
   "outputs": [
    {
     "data": {
      "text/plain": [
       "44813703.35504886"
      ]
     },
     "execution_count": 24,
     "metadata": {},
     "output_type": "execute_result"
    }
   ],
   "source": [
    "#This dataset also has a very skewed data, and this definitely has an effect on the mean as a measure of central tendency, lets consider mode and median\n",
    "movie_budget_ratings['production_budget'].mean()"
   ]
  },
  {
   "cell_type": "code",
   "execution_count": 25,
   "id": "df42480e-c1d6-4023-9523-e0c9295c07b3",
   "metadata": {},
   "outputs": [
    {
     "data": {
      "text/plain": [
       "0    20000000\n",
       "Name: production_budget, dtype: int64"
      ]
     },
     "execution_count": 25,
     "metadata": {},
     "output_type": "execute_result"
    }
   ],
   "source": [
    "movie_budget_ratings['production_budget'].mode()"
   ]
  },
  {
   "cell_type": "markdown",
   "id": "274de29e-b866-4114-b9ff-fc85376920e7",
   "metadata": {},
   "source": [
    "median and mode are closer to each other than mean, and since mode is less \n",
    "sensitive we'll use as the measure of central tendancy"
   ]
  },
  {
   "cell_type": "code",
   "execution_count": 26,
   "id": "ecdfcab7-055c-446b-974d-b6f804e938de",
   "metadata": {},
   "outputs": [
    {
     "data": {
      "text/html": [
       "<div>\n",
       "<style scoped>\n",
       "    .dataframe tbody tr th:only-of-type {\n",
       "        vertical-align: middle;\n",
       "    }\n",
       "\n",
       "    .dataframe tbody tr th {\n",
       "        vertical-align: top;\n",
       "    }\n",
       "\n",
       "    .dataframe thead th {\n",
       "        text-align: right;\n",
       "    }\n",
       "</style>\n",
       "<table border=\"1\" class=\"dataframe\">\n",
       "  <thead>\n",
       "    <tr style=\"text-align: right;\">\n",
       "      <th></th>\n",
       "      <th>tconst</th>\n",
       "      <th>averagerating</th>\n",
       "      <th>numvotes</th>\n",
       "      <th>primary_title</th>\n",
       "      <th>runtime_minutes</th>\n",
       "      <th>genres</th>\n",
       "      <th>release_date</th>\n",
       "      <th>production_budget</th>\n",
       "      <th>domestic_gross</th>\n",
       "      <th>worldwide_gross</th>\n",
       "      <th>approx_profit</th>\n",
       "      <th>approx_profit_perc</th>\n",
       "      <th>year_of_release</th>\n",
       "      <th>month_of_release</th>\n",
       "    </tr>\n",
       "  </thead>\n",
       "  <tbody>\n",
       "    <tr>\n",
       "      <th>90</th>\n",
       "      <td>tt1775309</td>\n",
       "      <td>6.1</td>\n",
       "      <td>43</td>\n",
       "      <td>avatar</td>\n",
       "      <td>93.0</td>\n",
       "      <td>Horror</td>\n",
       "      <td>2009-12-18</td>\n",
       "      <td>425000000</td>\n",
       "      <td>760507625</td>\n",
       "      <td>2776345279</td>\n",
       "      <td>2351345279</td>\n",
       "      <td>553.26</td>\n",
       "      <td>2009</td>\n",
       "      <td>12</td>\n",
       "    </tr>\n",
       "    <tr>\n",
       "      <th>1504</th>\n",
       "      <td>tt4154756</td>\n",
       "      <td>8.5</td>\n",
       "      <td>670926</td>\n",
       "      <td>avengers: infinity war</td>\n",
       "      <td>149.0</td>\n",
       "      <td>Action,Adventure,Sci-Fi</td>\n",
       "      <td>2018-04-27</td>\n",
       "      <td>300000000</td>\n",
       "      <td>678815482</td>\n",
       "      <td>2048134200</td>\n",
       "      <td>1748134200</td>\n",
       "      <td>582.71</td>\n",
       "      <td>2018</td>\n",
       "      <td>4</td>\n",
       "    </tr>\n",
       "    <tr>\n",
       "      <th>211</th>\n",
       "      <td>tt0369610</td>\n",
       "      <td>7.0</td>\n",
       "      <td>539338</td>\n",
       "      <td>jurassic world</td>\n",
       "      <td>124.0</td>\n",
       "      <td>Action,Adventure,Sci-Fi</td>\n",
       "      <td>2015-06-12</td>\n",
       "      <td>215000000</td>\n",
       "      <td>652270625</td>\n",
       "      <td>1648854864</td>\n",
       "      <td>1433854864</td>\n",
       "      <td>666.91</td>\n",
       "      <td>2015</td>\n",
       "      <td>6</td>\n",
       "    </tr>\n",
       "    <tr>\n",
       "      <th>354</th>\n",
       "      <td>tt2820852</td>\n",
       "      <td>7.2</td>\n",
       "      <td>335074</td>\n",
       "      <td>furious 7</td>\n",
       "      <td>137.0</td>\n",
       "      <td>Action,Crime,Thriller</td>\n",
       "      <td>2015-04-03</td>\n",
       "      <td>190000000</td>\n",
       "      <td>353007020</td>\n",
       "      <td>1518722794</td>\n",
       "      <td>1328722794</td>\n",
       "      <td>699.33</td>\n",
       "      <td>2015</td>\n",
       "      <td>4</td>\n",
       "    </tr>\n",
       "    <tr>\n",
       "      <th>1006</th>\n",
       "      <td>tt0848228</td>\n",
       "      <td>8.1</td>\n",
       "      <td>1183655</td>\n",
       "      <td>the avengers</td>\n",
       "      <td>143.0</td>\n",
       "      <td>Action,Adventure,Sci-Fi</td>\n",
       "      <td>2012-05-04</td>\n",
       "      <td>225000000</td>\n",
       "      <td>623279547</td>\n",
       "      <td>1517935897</td>\n",
       "      <td>1292935897</td>\n",
       "      <td>574.64</td>\n",
       "      <td>2012</td>\n",
       "      <td>5</td>\n",
       "    </tr>\n",
       "    <tr>\n",
       "      <th>1380</th>\n",
       "      <td>tt2395427</td>\n",
       "      <td>7.3</td>\n",
       "      <td>665594</td>\n",
       "      <td>avengers: age of ultron</td>\n",
       "      <td>141.0</td>\n",
       "      <td>Action,Adventure,Sci-Fi</td>\n",
       "      <td>2015-05-01</td>\n",
       "      <td>330600000</td>\n",
       "      <td>459005868</td>\n",
       "      <td>1403013963</td>\n",
       "      <td>1072413963</td>\n",
       "      <td>324.38</td>\n",
       "      <td>2015</td>\n",
       "      <td>5</td>\n",
       "    </tr>\n",
       "    <tr>\n",
       "      <th>266</th>\n",
       "      <td>tt1825683</td>\n",
       "      <td>7.3</td>\n",
       "      <td>516148</td>\n",
       "      <td>black panther</td>\n",
       "      <td>134.0</td>\n",
       "      <td>Action,Adventure,Sci-Fi</td>\n",
       "      <td>2018-02-16</td>\n",
       "      <td>200000000</td>\n",
       "      <td>700059566</td>\n",
       "      <td>1348258224</td>\n",
       "      <td>1148258224</td>\n",
       "      <td>574.13</td>\n",
       "      <td>2018</td>\n",
       "      <td>2</td>\n",
       "    </tr>\n",
       "    <tr>\n",
       "      <th>241</th>\n",
       "      <td>tt4881806</td>\n",
       "      <td>6.2</td>\n",
       "      <td>219125</td>\n",
       "      <td>jurassic world: fallen kingdom</td>\n",
       "      <td>128.0</td>\n",
       "      <td>Action,Adventure,Sci-Fi</td>\n",
       "      <td>2018-06-22</td>\n",
       "      <td>170000000</td>\n",
       "      <td>417719760</td>\n",
       "      <td>1305772799</td>\n",
       "      <td>1135772799</td>\n",
       "      <td>668.10</td>\n",
       "      <td>2018</td>\n",
       "      <td>6</td>\n",
       "    </tr>\n",
       "    <tr>\n",
       "      <th>434</th>\n",
       "      <td>tt1323045</td>\n",
       "      <td>6.2</td>\n",
       "      <td>62311</td>\n",
       "      <td>frozen</td>\n",
       "      <td>93.0</td>\n",
       "      <td>Adventure,Drama,Sport</td>\n",
       "      <td>2013-11-22</td>\n",
       "      <td>150000000</td>\n",
       "      <td>400738009</td>\n",
       "      <td>1272469910</td>\n",
       "      <td>1122469910</td>\n",
       "      <td>748.31</td>\n",
       "      <td>2013</td>\n",
       "      <td>11</td>\n",
       "    </tr>\n",
       "    <tr>\n",
       "      <th>971</th>\n",
       "      <td>tt2316801</td>\n",
       "      <td>6.4</td>\n",
       "      <td>18100</td>\n",
       "      <td>beauty and the beast</td>\n",
       "      <td>112.0</td>\n",
       "      <td>Drama,Fantasy,Romance</td>\n",
       "      <td>2017-03-17</td>\n",
       "      <td>160000000</td>\n",
       "      <td>504014165</td>\n",
       "      <td>1259199706</td>\n",
       "      <td>1099199706</td>\n",
       "      <td>687.00</td>\n",
       "      <td>2017</td>\n",
       "      <td>3</td>\n",
       "    </tr>\n",
       "  </tbody>\n",
       "</table>\n",
       "</div>"
      ],
      "text/plain": [
       "         tconst  averagerating  numvotes                   primary_title  \\\n",
       "90    tt1775309            6.1        43                          avatar   \n",
       "1504  tt4154756            8.5    670926          avengers: infinity war   \n",
       "211   tt0369610            7.0    539338                  jurassic world   \n",
       "354   tt2820852            7.2    335074                       furious 7   \n",
       "1006  tt0848228            8.1   1183655                    the avengers   \n",
       "1380  tt2395427            7.3    665594         avengers: age of ultron   \n",
       "266   tt1825683            7.3    516148                   black panther   \n",
       "241   tt4881806            6.2    219125  jurassic world: fallen kingdom   \n",
       "434   tt1323045            6.2     62311                          frozen   \n",
       "971   tt2316801            6.4     18100            beauty and the beast   \n",
       "\n",
       "      runtime_minutes                   genres release_date  \\\n",
       "90               93.0                   Horror   2009-12-18   \n",
       "1504            149.0  Action,Adventure,Sci-Fi   2018-04-27   \n",
       "211             124.0  Action,Adventure,Sci-Fi   2015-06-12   \n",
       "354             137.0    Action,Crime,Thriller   2015-04-03   \n",
       "1006            143.0  Action,Adventure,Sci-Fi   2012-05-04   \n",
       "1380            141.0  Action,Adventure,Sci-Fi   2015-05-01   \n",
       "266             134.0  Action,Adventure,Sci-Fi   2018-02-16   \n",
       "241             128.0  Action,Adventure,Sci-Fi   2018-06-22   \n",
       "434              93.0    Adventure,Drama,Sport   2013-11-22   \n",
       "971             112.0    Drama,Fantasy,Romance   2017-03-17   \n",
       "\n",
       "      production_budget  domestic_gross  worldwide_gross  approx_profit  \\\n",
       "90            425000000       760507625       2776345279     2351345279   \n",
       "1504          300000000       678815482       2048134200     1748134200   \n",
       "211           215000000       652270625       1648854864     1433854864   \n",
       "354           190000000       353007020       1518722794     1328722794   \n",
       "1006          225000000       623279547       1517935897     1292935897   \n",
       "1380          330600000       459005868       1403013963     1072413963   \n",
       "266           200000000       700059566       1348258224     1148258224   \n",
       "241           170000000       417719760       1305772799     1135772799   \n",
       "434           150000000       400738009       1272469910     1122469910   \n",
       "971           160000000       504014165       1259199706     1099199706   \n",
       "\n",
       "      approx_profit_perc  year_of_release  month_of_release  \n",
       "90                553.26             2009                12  \n",
       "1504              582.71             2018                 4  \n",
       "211               666.91             2015                 6  \n",
       "354               699.33             2015                 4  \n",
       "1006              574.64             2012                 5  \n",
       "1380              324.38             2015                 5  \n",
       "266               574.13             2018                 2  \n",
       "241               668.10             2018                 6  \n",
       "434               748.31             2013                11  \n",
       "971               687.00             2017                 3  "
      ]
     },
     "execution_count": 26,
     "metadata": {},
     "output_type": "execute_result"
    }
   ],
   "source": [
    "# Now we're going to create a column that shows \n",
    "# the most grossing movie genres\n",
    "top_most_grossing = movie_budget_ratings.sort_values(by='worldwide_gross', ascending=False)[:10]\n",
    "top_most_grossing"
   ]
  },
  {
   "cell_type": "code",
   "execution_count": 27,
   "id": "95297db9-adcc-42f1-9982-add6df8b79e4",
   "metadata": {},
   "outputs": [
    {
     "data": {
      "text/html": [
       "<div>\n",
       "<style scoped>\n",
       "    .dataframe tbody tr th:only-of-type {\n",
       "        vertical-align: middle;\n",
       "    }\n",
       "\n",
       "    .dataframe tbody tr th {\n",
       "        vertical-align: top;\n",
       "    }\n",
       "\n",
       "    .dataframe thead th {\n",
       "        text-align: right;\n",
       "    }\n",
       "</style>\n",
       "<table border=\"1\" class=\"dataframe\">\n",
       "  <thead>\n",
       "    <tr style=\"text-align: right;\">\n",
       "      <th></th>\n",
       "      <th>tconst</th>\n",
       "      <th>averagerating</th>\n",
       "      <th>numvotes</th>\n",
       "      <th>primary_title</th>\n",
       "      <th>runtime_minutes</th>\n",
       "      <th>genres</th>\n",
       "      <th>release_date</th>\n",
       "      <th>production_budget</th>\n",
       "      <th>domestic_gross</th>\n",
       "      <th>worldwide_gross</th>\n",
       "      <th>approx_profit</th>\n",
       "      <th>approx_profit_perc</th>\n",
       "      <th>year_of_release</th>\n",
       "      <th>month_of_release</th>\n",
       "    </tr>\n",
       "  </thead>\n",
       "  <tbody>\n",
       "    <tr>\n",
       "      <th>90</th>\n",
       "      <td>tt1775309</td>\n",
       "      <td>6.1</td>\n",
       "      <td>43</td>\n",
       "      <td>avatar</td>\n",
       "      <td>93.0</td>\n",
       "      <td>Horror</td>\n",
       "      <td>2009-12-18</td>\n",
       "      <td>425000000</td>\n",
       "      <td>760507625</td>\n",
       "      <td>2776345279</td>\n",
       "      <td>2351345279</td>\n",
       "      <td>553.26</td>\n",
       "      <td>2009</td>\n",
       "      <td>12</td>\n",
       "    </tr>\n",
       "    <tr>\n",
       "      <th>1504</th>\n",
       "      <td>tt4154756</td>\n",
       "      <td>8.5</td>\n",
       "      <td>670926</td>\n",
       "      <td>avengers: infinity war</td>\n",
       "      <td>149.0</td>\n",
       "      <td>Action,Adventure,Sci-Fi</td>\n",
       "      <td>2018-04-27</td>\n",
       "      <td>300000000</td>\n",
       "      <td>678815482</td>\n",
       "      <td>2048134200</td>\n",
       "      <td>1748134200</td>\n",
       "      <td>582.71</td>\n",
       "      <td>2018</td>\n",
       "      <td>4</td>\n",
       "    </tr>\n",
       "    <tr>\n",
       "      <th>211</th>\n",
       "      <td>tt0369610</td>\n",
       "      <td>7.0</td>\n",
       "      <td>539338</td>\n",
       "      <td>jurassic world</td>\n",
       "      <td>124.0</td>\n",
       "      <td>Action,Adventure,Sci-Fi</td>\n",
       "      <td>2015-06-12</td>\n",
       "      <td>215000000</td>\n",
       "      <td>652270625</td>\n",
       "      <td>1648854864</td>\n",
       "      <td>1433854864</td>\n",
       "      <td>666.91</td>\n",
       "      <td>2015</td>\n",
       "      <td>6</td>\n",
       "    </tr>\n",
       "    <tr>\n",
       "      <th>354</th>\n",
       "      <td>tt2820852</td>\n",
       "      <td>7.2</td>\n",
       "      <td>335074</td>\n",
       "      <td>furious 7</td>\n",
       "      <td>137.0</td>\n",
       "      <td>Action,Crime,Thriller</td>\n",
       "      <td>2015-04-03</td>\n",
       "      <td>190000000</td>\n",
       "      <td>353007020</td>\n",
       "      <td>1518722794</td>\n",
       "      <td>1328722794</td>\n",
       "      <td>699.33</td>\n",
       "      <td>2015</td>\n",
       "      <td>4</td>\n",
       "    </tr>\n",
       "    <tr>\n",
       "      <th>1006</th>\n",
       "      <td>tt0848228</td>\n",
       "      <td>8.1</td>\n",
       "      <td>1183655</td>\n",
       "      <td>the avengers</td>\n",
       "      <td>143.0</td>\n",
       "      <td>Action,Adventure,Sci-Fi</td>\n",
       "      <td>2012-05-04</td>\n",
       "      <td>225000000</td>\n",
       "      <td>623279547</td>\n",
       "      <td>1517935897</td>\n",
       "      <td>1292935897</td>\n",
       "      <td>574.64</td>\n",
       "      <td>2012</td>\n",
       "      <td>5</td>\n",
       "    </tr>\n",
       "    <tr>\n",
       "      <th>...</th>\n",
       "      <td>...</td>\n",
       "      <td>...</td>\n",
       "      <td>...</td>\n",
       "      <td>...</td>\n",
       "      <td>...</td>\n",
       "      <td>...</td>\n",
       "      <td>...</td>\n",
       "      <td>...</td>\n",
       "      <td>...</td>\n",
       "      <td>...</td>\n",
       "      <td>...</td>\n",
       "      <td>...</td>\n",
       "      <td>...</td>\n",
       "      <td>...</td>\n",
       "    </tr>\n",
       "    <tr>\n",
       "      <th>783</th>\n",
       "      <td>tt3095734</td>\n",
       "      <td>5.7</td>\n",
       "      <td>13525</td>\n",
       "      <td>monster trucks</td>\n",
       "      <td>104.0</td>\n",
       "      <td>Action,Adventure,Comedy</td>\n",
       "      <td>2017-01-13</td>\n",
       "      <td>125000000</td>\n",
       "      <td>33370166</td>\n",
       "      <td>61642798</td>\n",
       "      <td>-63357202</td>\n",
       "      <td>-50.69</td>\n",
       "      <td>2017</td>\n",
       "      <td>1</td>\n",
       "    </tr>\n",
       "    <tr>\n",
       "      <th>788</th>\n",
       "      <td>tt1041804</td>\n",
       "      <td>4.3</td>\n",
       "      <td>3119</td>\n",
       "      <td>the nutcracker in 3d</td>\n",
       "      <td>110.0</td>\n",
       "      <td>Action,Family,Fantasy</td>\n",
       "      <td>2010-11-24</td>\n",
       "      <td>90000000</td>\n",
       "      <td>195459</td>\n",
       "      <td>20466016</td>\n",
       "      <td>-69533984</td>\n",
       "      <td>-77.26</td>\n",
       "      <td>2010</td>\n",
       "      <td>11</td>\n",
       "    </tr>\n",
       "    <tr>\n",
       "      <th>1002</th>\n",
       "      <td>tt4776998</td>\n",
       "      <td>6.1</td>\n",
       "      <td>164555</td>\n",
       "      <td>the promise</td>\n",
       "      <td>133.0</td>\n",
       "      <td>Drama,History</td>\n",
       "      <td>2017-04-21</td>\n",
       "      <td>90000000</td>\n",
       "      <td>8224288</td>\n",
       "      <td>10551417</td>\n",
       "      <td>-79448583</td>\n",
       "      <td>-88.28</td>\n",
       "      <td>2017</td>\n",
       "      <td>4</td>\n",
       "    </tr>\n",
       "    <tr>\n",
       "      <th>146</th>\n",
       "      <td>tt1305591</td>\n",
       "      <td>5.4</td>\n",
       "      <td>19823</td>\n",
       "      <td>mars needs moms</td>\n",
       "      <td>88.0</td>\n",
       "      <td>Adventure,Animation,Family</td>\n",
       "      <td>2011-03-11</td>\n",
       "      <td>150000000</td>\n",
       "      <td>21392758</td>\n",
       "      <td>39549758</td>\n",
       "      <td>-110450242</td>\n",
       "      <td>-73.63</td>\n",
       "      <td>2011</td>\n",
       "      <td>3</td>\n",
       "    </tr>\n",
       "    <tr>\n",
       "      <th>185</th>\n",
       "      <td>tt6565702</td>\n",
       "      <td>6.0</td>\n",
       "      <td>24451</td>\n",
       "      <td>dark phoenix</td>\n",
       "      <td>113.0</td>\n",
       "      <td>Action,Adventure,Sci-Fi</td>\n",
       "      <td>2019-06-07</td>\n",
       "      <td>350000000</td>\n",
       "      <td>42762350</td>\n",
       "      <td>149762350</td>\n",
       "      <td>-200237650</td>\n",
       "      <td>-57.21</td>\n",
       "      <td>2019</td>\n",
       "      <td>6</td>\n",
       "    </tr>\n",
       "  </tbody>\n",
       "</table>\n",
       "<p>1535 rows × 14 columns</p>\n",
       "</div>"
      ],
      "text/plain": [
       "         tconst  averagerating  numvotes           primary_title  \\\n",
       "90    tt1775309            6.1        43                  avatar   \n",
       "1504  tt4154756            8.5    670926  avengers: infinity war   \n",
       "211   tt0369610            7.0    539338          jurassic world   \n",
       "354   tt2820852            7.2    335074               furious 7   \n",
       "1006  tt0848228            8.1   1183655            the avengers   \n",
       "...         ...            ...       ...                     ...   \n",
       "783   tt3095734            5.7     13525          monster trucks   \n",
       "788   tt1041804            4.3      3119    the nutcracker in 3d   \n",
       "1002  tt4776998            6.1    164555             the promise   \n",
       "146   tt1305591            5.4     19823         mars needs moms   \n",
       "185   tt6565702            6.0     24451            dark phoenix   \n",
       "\n",
       "      runtime_minutes                      genres release_date  \\\n",
       "90               93.0                      Horror   2009-12-18   \n",
       "1504            149.0     Action,Adventure,Sci-Fi   2018-04-27   \n",
       "211             124.0     Action,Adventure,Sci-Fi   2015-06-12   \n",
       "354             137.0       Action,Crime,Thriller   2015-04-03   \n",
       "1006            143.0     Action,Adventure,Sci-Fi   2012-05-04   \n",
       "...               ...                         ...          ...   \n",
       "783             104.0     Action,Adventure,Comedy   2017-01-13   \n",
       "788             110.0       Action,Family,Fantasy   2010-11-24   \n",
       "1002            133.0               Drama,History   2017-04-21   \n",
       "146              88.0  Adventure,Animation,Family   2011-03-11   \n",
       "185             113.0     Action,Adventure,Sci-Fi   2019-06-07   \n",
       "\n",
       "      production_budget  domestic_gross  worldwide_gross  approx_profit  \\\n",
       "90            425000000       760507625       2776345279     2351345279   \n",
       "1504          300000000       678815482       2048134200     1748134200   \n",
       "211           215000000       652270625       1648854864     1433854864   \n",
       "354           190000000       353007020       1518722794     1328722794   \n",
       "1006          225000000       623279547       1517935897     1292935897   \n",
       "...                 ...             ...              ...            ...   \n",
       "783           125000000        33370166         61642798      -63357202   \n",
       "788            90000000          195459         20466016      -69533984   \n",
       "1002           90000000         8224288         10551417      -79448583   \n",
       "146           150000000        21392758         39549758     -110450242   \n",
       "185           350000000        42762350        149762350     -200237650   \n",
       "\n",
       "      approx_profit_perc  year_of_release  month_of_release  \n",
       "90                553.26             2009                12  \n",
       "1504              582.71             2018                 4  \n",
       "211               666.91             2015                 6  \n",
       "354               699.33             2015                 4  \n",
       "1006              574.64             2012                 5  \n",
       "...                  ...              ...               ...  \n",
       "783               -50.69             2017                 1  \n",
       "788               -77.26             2010                11  \n",
       "1002              -88.28             2017                 4  \n",
       "146               -73.63             2011                 3  \n",
       "185               -57.21             2019                 6  \n",
       "\n",
       "[1535 rows x 14 columns]"
      ]
     },
     "execution_count": 27,
     "metadata": {},
     "output_type": "execute_result"
    }
   ],
   "source": [
    "# Now we're going to create a column that shows \n",
    "# the most profitable movie genres\n",
    "top_most_profitable = movie_budget_ratings.sort_values(by='approx_profit', ascending=False)\n",
    "top_most_profitable"
   ]
  },
  {
   "cell_type": "code",
   "execution_count": 29,
   "id": "8a9656f0-85c4-4a38-a9ca-4c0cdaf343b4",
   "metadata": {},
   "outputs": [
    {
     "name": "stderr",
     "output_type": "stream",
     "text": [
      "C:\\Users\\ADMIN\\AppData\\Local\\Temp\\ipykernel_17276\\537889259.py:16: UserWarning: FixedFormatter should only be used together with FixedLocator\n",
      "  ax.set_yticklabels(labels=genre_names)\n"
     ]
    },
    {
     "data": {
      "text/plain": [
       "[Text(0, 0, 'Horror'),\n",
       " Text(0, 1, 'Action,Adventure,Sci-Fi'),\n",
       " Text(0, 2, 'Action,Adventure,Sci-Fi'),\n",
       " Text(0, 3, 'Action,Crime,Thriller'),\n",
       " Text(0, 4, 'Action,Adventure,Sci-Fi'),\n",
       " Text(0, 5, 'Action,Adventure,Sci-Fi')]"
      ]
     },
     "execution_count": 29,
     "metadata": {},
     "output_type": "execute_result"
    },
    {
     "data": {
      "image/png": "[encoded data removed]",
      "text/plain": [
       "<Figure size 1440x720 with 1 Axes>"
      ]
     },
     "metadata": {},
     "output_type": "display_data"
    }
   ],
   "source": [
    "# plot most profitable movies\n",
    "fig, ax = plt.subplots(figsize=(20,10))\n",
    "\n",
    "\n",
    "genre_names = top_most_profitable['genres']\n",
    "genre_revenue = top_most_profitable['approx_profit']/1000000\n",
    "\n",
    "ax.barh(genre_names, genre_revenue)\n",
    "\n",
    "# set out title\n",
    "ax.set_title(\"Top Most profitable Genres\")\n",
    "\n",
    "ax.set_xlabel('Genres')\n",
    "ax.set_ylabel('World wide gross (Million $)')\n",
    "\n",
    "ax.set_yticklabels(labels=genre_names)"
   ]
  },
  {
   "cell_type": "code",
   "execution_count": 28,
   "id": "7816db59-97a8-4c94-9b27-630942737282",
   "metadata": {},
   "outputs": [],
   "source": [
    "# create function to count number of movies in each genre\n",
    "def count_genre_number (data,column):\n",
    "    genre_number = {}\n",
    "    for genres in data[column]:\n",
    "        for genre in genres.split(\",\"):\n",
    "            if genre in genre_number:\n",
    "                genre_number[genre] += 1\n",
    "            else:\n",
    "                genre_number[genre] = 1\n",
    "    return genre_number   "
   ]
  },
  {
   "cell_type": "code",
   "execution_count": 29,
   "id": "345e4153-5e81-4ba4-93e4-e5c9845a781d",
   "metadata": {},
   "outputs": [
    {
     "name": "stdout",
     "output_type": "stream",
     "text": [
      "{'Action': 435, 'Adventure': 356, 'Fantasy': 126, 'Biography': 145, 'Drama': 787, 'Sport': 34, 'Comedy': 529, 'Romance': 208, 'Crime': 236, 'Horror': 171, 'Thriller': 259, 'Sci-Fi': 136, 'Mystery': 130, 'History': 50, 'War': 21, 'Animation': 103, 'Documentary': 42, 'Family': 87, 'Music': 56, 'Musical': 8, 'Western': 12}\n"
     ]
    }
   ],
   "source": [
    "# use the function created to count number of movies in each genre in the combined dataframe\n",
    "count_of_genre = count_genre_number (movie_budget_ratings,\"genres\")   \n",
    "print(count_of_genre)"
   ]
  },
  {
   "cell_type": "code",
   "execution_count": 30,
   "id": "752b96fa-506e-4738-8f82-dd2a5f38b492",
   "metadata": {},
   "outputs": [],
   "source": [
    "# create list to contain elements of the bar chart\n",
    "x_genres = []\n",
    "y_num_of_movies = []\n",
    "\n",
    "for genre, count in count_of_genre.items():\n",
    "    x_genres.append(genre)\n",
    "    y_num_of_movies.append(count)"
   ]
  },
  {
   "cell_type": "code",
   "execution_count": 31,
   "id": "d275c14f-3131-4f4f-9f71-acbb5d7b666d",
   "metadata": {},
   "outputs": [
    {
     "data": {
      "image/png": "[encoded data removed]",
      "text/plain": [
       "<Figure size 1080x576 with 1 Axes>"
      ]
     },
     "metadata": {},
     "output_type": "display_data"
    }
   ],
   "source": [
    "# plot the most grossing movie genres\n",
    "plt.figure(figsize = (15, 8))\n",
    "sns.barplot(x = x_genres, y = y_num_of_movies, color = \"blue\")\n",
    "plt.title(\"Genres from the top most grossing movies\")\n",
    "plt.ylabel(\"Number of movies in each genre\")\n",
    "plt.xlabel(\"Genres\")\n",
    "\n",
    "plt.show()"
   ]
  },
  {
   "cell_type": "markdown",
   "id": "85454229-6b09-40b0-9230-34472d26279d",
   "metadata": {},
   "source": [
    "Observing the bar chart above, from the top most grossing movies, our company should invest in Adventure, Action, Comedy, Crime, Drama and Thriller movies"
   ]
  },
  {
   "cell_type": "markdown",
   "id": "60dee830-26cc-484a-93c4-6899d2cc7027",
   "metadata": {},
   "source": [
    "What is the best time to release movies?\n",
    "to answer this question, we'll need to look for quarter of the year most movies were released.."
   ]
  },
  {
   "cell_type": "code",
   "execution_count": 34,
   "id": "8f39b489-4440-458c-a602-425eabf02ba7",
   "metadata": {},
   "outputs": [
    {
     "data": {
      "text/plain": [
       "90      12\n",
       "1504     4\n",
       "211      6\n",
       "354      4\n",
       "1006     5\n",
       "1380     5\n",
       "266      2\n",
       "241      6\n",
       "434     11\n",
       "971      3\n",
       "Name: month_of_release, dtype: int64"
      ]
     },
     "execution_count": 34,
     "metadata": {},
     "output_type": "execute_result"
    }
   ],
   "source": [
    "release_month = top_most_grossing['month_of_release']\n",
    "release_month"
   ]
  },
  {
   "cell_type": "code",
   "execution_count": 35,
   "id": "e15f70c3-296c-4464-85d0-e388f21ce7b9",
   "metadata": {},
   "outputs": [
    {
     "data": {
      "text/plain": [
       "{'Quater-1-Jan-March': 2,\n",
       " 'Quater-2-April-June': 6,\n",
       " 'Quater-3-July-September': 0,\n",
       " 'Quater-4-October-December': 2}"
      ]
     },
     "execution_count": 35,
     "metadata": {},
     "output_type": "execute_result"
    }
   ],
   "source": [
    "quater_counter = {\n",
    "    'Quater-1-Jan-March':0,\n",
    "    'Quater-2-April-June':0,\n",
    "    'Quater-3-July-September':0,\n",
    "    'Quater-4-October-December':0\n",
    "}\n",
    "\n",
    "for month in release_month:\n",
    "    if month >= 1 and month <= 3:\n",
    "        quater_counter['Quater-1-Jan-March'] += 1\n",
    "    elif month >= 4 and month <= 6:\n",
    "        quater_counter['Quater-2-April-June'] += 1\n",
    "    elif month >= 7 and month <= 9:\n",
    "        quater_counter['Quater-3-July-September'] += 1\n",
    "    else:\n",
    "        quater_counter['Quater-4-October-December'] += 1\n",
    "\n",
    "quater_counter"
   ]
  },
  {
   "cell_type": "code",
   "execution_count": 36,
   "id": "131b03dc-38d5-45a4-8c9d-913072c92a54",
   "metadata": {},
   "outputs": [
    {
     "name": "stderr",
     "output_type": "stream",
     "text": [
      "C:\\Users\\ADMIN\\AppData\\Local\\Temp\\ipykernel_16444\\3984278796.py:14: UserWarning: FixedFormatter should only be used together with FixedLocator\n",
      "  ax.set_xticklabels(labels=month_of_release)\n"
     ]
    },
    {
     "data": {
      "text/plain": [
       "[Text(0, 0, 'Quater-1-Jan-March'),\n",
       " Text(1, 0, 'Quater-2-April-June'),\n",
       " Text(2, 0, 'Quater-3-July-September'),\n",
       " Text(3, 0, 'Quater-4-October-December')]"
      ]
     },
     "execution_count": 36,
     "metadata": {},
     "output_type": "execute_result"
    },
    {
     "data": {
      "image/png": "[encoded data removed]",
      "text/plain": [
       "<Figure size 1440x720 with 1 Axes>"
      ]
     },
     "metadata": {},
     "output_type": "display_data"
    }
   ],
   "source": [
    "fig, ax = plt.subplots(figsize=(20,10))\n",
    "\n",
    "month_of_release = quater_counter.keys()\n",
    "number_of_movies = quater_counter.values()\n",
    "\n",
    "ax.bar(month_of_release, number_of_movies)\n",
    "\n",
    "# set out title\n",
    "ax.set_title(\"Most popular Quater of year\")\n",
    "\n",
    "ax.set_xlabel('Quater of the year')\n",
    "ax.set_ylabel('Count')\n",
    "\n",
    "ax.set_xticklabels(labels=month_of_release)"
   ]
  },
  {
   "cell_type": "markdown",
   "id": "f17d0f0f-290e-4e54-8d3c-45d291d086c3",
   "metadata": {},
   "source": [
    "from the above,bar graph we can conclude that the second and fourth quarter are the best time for movie releases\n"
   ]
  },
  {
   "cell_type": "markdown",
   "id": "7938d383-036e-4e72-b4b9-a17ef95281bd",
   "metadata": {},
   "source": [
    "The genre to invest most on to get the highest Return on Investment To get the most out of the movie industry, \n",
    "produce movies in the genres Adventure, Action,Comedy, Drama and Thriller. \n",
    "This makes sense given that the three most profitable genres have a wider audience to appeal to and also typically have higher budgets.\n",
    "As can be seen from the dataframe and the table some genres are more profitable than others. \n",
    "Since a movie often is often categorized under several genres, \n",
    "it pays to consider making a movie that can be categorized under some profitable genres in addition to its other genres, \n",
    "in order to increase the target audience."
   ]
  },
  {
   "cell_type": "code",
   "execution_count": 37,
   "id": "61a3ac7f-b57f-40be-8982-d03c84b91336",
   "metadata": {},
   "outputs": [
    {
     "data": {
      "text/html": [
       "<div>\n",
       "<style scoped>\n",
       "    .dataframe tbody tr th:only-of-type {\n",
       "        vertical-align: middle;\n",
       "    }\n",
       "\n",
       "    .dataframe tbody tr th {\n",
       "        vertical-align: top;\n",
       "    }\n",
       "\n",
       "    .dataframe thead th {\n",
       "        text-align: right;\n",
       "    }\n",
       "</style>\n",
       "<table border=\"1\" class=\"dataframe\">\n",
       "  <thead>\n",
       "    <tr style=\"text-align: right;\">\n",
       "      <th></th>\n",
       "      <th>tconst</th>\n",
       "      <th>averagerating</th>\n",
       "      <th>numvotes</th>\n",
       "      <th>primary_title</th>\n",
       "      <th>runtime_minutes</th>\n",
       "      <th>genres</th>\n",
       "      <th>release_date</th>\n",
       "      <th>production_budget</th>\n",
       "      <th>domestic_gross</th>\n",
       "      <th>worldwide_gross</th>\n",
       "      <th>approx_profit</th>\n",
       "      <th>approx_profit_perc</th>\n",
       "      <th>year_of_release</th>\n",
       "      <th>month_of_release</th>\n",
       "    </tr>\n",
       "  </thead>\n",
       "  <tbody>\n",
       "    <tr>\n",
       "      <th>0</th>\n",
       "      <td>tt1043726</td>\n",
       "      <td>4.2</td>\n",
       "      <td>50352</td>\n",
       "      <td>the legend of hercules</td>\n",
       "      <td>99.0</td>\n",
       "      <td>Action,Adventure,Fantasy</td>\n",
       "      <td>2014-01-10</td>\n",
       "      <td>70000000</td>\n",
       "      <td>18848538</td>\n",
       "      <td>58953319</td>\n",
       "      <td>-11046681</td>\n",
       "      <td>-15.78</td>\n",
       "      <td>2014</td>\n",
       "      <td>1</td>\n",
       "    </tr>\n",
       "    <tr>\n",
       "      <th>1</th>\n",
       "      <td>tt1094666</td>\n",
       "      <td>7.0</td>\n",
       "      <td>1613</td>\n",
       "      <td>the hammer</td>\n",
       "      <td>108.0</td>\n",
       "      <td>Biography,Drama,Sport</td>\n",
       "      <td>2008-03-21</td>\n",
       "      <td>850000</td>\n",
       "      <td>442638</td>\n",
       "      <td>442638</td>\n",
       "      <td>-407362</td>\n",
       "      <td>-47.92</td>\n",
       "      <td>2008</td>\n",
       "      <td>3</td>\n",
       "    </tr>\n",
       "    <tr>\n",
       "      <th>2</th>\n",
       "      <td>tt1171222</td>\n",
       "      <td>5.1</td>\n",
       "      <td>8296</td>\n",
       "      <td>baggage claim</td>\n",
       "      <td>96.0</td>\n",
       "      <td>Comedy</td>\n",
       "      <td>2013-09-27</td>\n",
       "      <td>8500000</td>\n",
       "      <td>21569509</td>\n",
       "      <td>22885836</td>\n",
       "      <td>14385836</td>\n",
       "      <td>169.25</td>\n",
       "      <td>2013</td>\n",
       "      <td>9</td>\n",
       "    </tr>\n",
       "    <tr>\n",
       "      <th>3</th>\n",
       "      <td>tt1210166</td>\n",
       "      <td>7.6</td>\n",
       "      <td>326657</td>\n",
       "      <td>moneyball</td>\n",
       "      <td>133.0</td>\n",
       "      <td>Biography,Drama,Sport</td>\n",
       "      <td>2011-09-23</td>\n",
       "      <td>50000000</td>\n",
       "      <td>75605492</td>\n",
       "      <td>111300835</td>\n",
       "      <td>61300835</td>\n",
       "      <td>122.60</td>\n",
       "      <td>2011</td>\n",
       "      <td>9</td>\n",
       "    </tr>\n",
       "    <tr>\n",
       "      <th>4</th>\n",
       "      <td>tt1212419</td>\n",
       "      <td>6.5</td>\n",
       "      <td>87288</td>\n",
       "      <td>hereafter</td>\n",
       "      <td>129.0</td>\n",
       "      <td>Drama,Fantasy,Romance</td>\n",
       "      <td>2010-10-15</td>\n",
       "      <td>50000000</td>\n",
       "      <td>32746941</td>\n",
       "      <td>108660270</td>\n",
       "      <td>58660270</td>\n",
       "      <td>117.32</td>\n",
       "      <td>2010</td>\n",
       "      <td>10</td>\n",
       "    </tr>\n",
       "  </tbody>\n",
       "</table>\n",
       "</div>"
      ],
      "text/plain": [
       "      tconst  averagerating  numvotes           primary_title  \\\n",
       "0  tt1043726            4.2     50352  the legend of hercules   \n",
       "1  tt1094666            7.0      1613              the hammer   \n",
       "2  tt1171222            5.1      8296           baggage claim   \n",
       "3  tt1210166            7.6    326657               moneyball   \n",
       "4  tt1212419            6.5     87288               hereafter   \n",
       "\n",
       "   runtime_minutes                    genres release_date  production_budget  \\\n",
       "0             99.0  Action,Adventure,Fantasy   2014-01-10           70000000   \n",
       "1            108.0     Biography,Drama,Sport   2008-03-21             850000   \n",
       "2             96.0                    Comedy   2013-09-27            8500000   \n",
       "3            133.0     Biography,Drama,Sport   2011-09-23           50000000   \n",
       "4            129.0     Drama,Fantasy,Romance   2010-10-15           50000000   \n",
       "\n",
       "   domestic_gross  worldwide_gross  approx_profit  approx_profit_perc  \\\n",
       "0        18848538         58953319      -11046681              -15.78   \n",
       "1          442638           442638        -407362              -47.92   \n",
       "2        21569509         22885836       14385836              169.25   \n",
       "3        75605492        111300835       61300835              122.60   \n",
       "4        32746941        108660270       58660270              117.32   \n",
       "\n",
       "   year_of_release  month_of_release  \n",
       "0             2014                 1  \n",
       "1             2008                 3  \n",
       "2             2013                 9  \n",
       "3             2011                 9  \n",
       "4             2010                10  "
      ]
     },
     "execution_count": 37,
     "metadata": {},
     "output_type": "execute_result"
    }
   ],
   "source": [
    "movie_budget_ratings.head()"
   ]
  },
  {
   "cell_type": "code",
   "execution_count": 38,
   "id": "bcd5e992-39e0-4eb4-8250-fb01dd9f1be7",
   "metadata": {},
   "outputs": [
    {
     "name": "stdout",
     "output_type": "stream",
     "text": [
      "<class 'pandas.core.frame.DataFrame'>\n",
      "Int64Index: 1535 entries, 0 to 1534\n",
      "Data columns (total 14 columns):\n",
      " #   Column              Non-Null Count  Dtype  \n",
      "---  ------              --------------  -----  \n",
      " 0   tconst              1535 non-null   object \n",
      " 1   averagerating       1535 non-null   float64\n",
      " 2   numvotes            1535 non-null   int64  \n",
      " 3   primary_title       1535 non-null   object \n",
      " 4   runtime_minutes     1535 non-null   float64\n",
      " 5   genres              1535 non-null   object \n",
      " 6   release_date        1535 non-null   object \n",
      " 7   production_budget   1535 non-null   int64  \n",
      " 8   domestic_gross      1535 non-null   int64  \n",
      " 9   worldwide_gross     1535 non-null   int64  \n",
      " 10  approx_profit       1535 non-null   int64  \n",
      " 11  approx_profit_perc  1535 non-null   float64\n",
      " 12  year_of_release     1535 non-null   int64  \n",
      " 13  month_of_release    1535 non-null   int64  \n",
      "dtypes: float64(3), int64(7), object(4)\n",
      "memory usage: 212.2+ KB\n"
     ]
    }
   ],
   "source": [
    "movie_budget_ratings.info()"
   ]
  },
  {
   "cell_type": "markdown",
   "id": "68adcff0-6d07-4c98-a74c-33d9ff074022",
   "metadata": {},
   "source": [
    "Modeling\n",
    "Gross will also not be included in the model because when trial and error is carried out in making a model \n",
    "if gross is included in the model, gross will predict profits very well (overfitting) where gross has a strong positive correlation with profit."
   ]
  },
  {
   "cell_type": "code",
   "execution_count": 39,
   "id": "4ef0edb4-919b-40c4-b097-f1002601e578",
   "metadata": {},
   "outputs": [
    {
     "data": {
      "text/plain": [
       "Index(['tconst', 'averagerating', 'numvotes', 'primary_title',\n",
       "       'runtime_minutes', 'genres', 'release_date', 'production_budget',\n",
       "       'domestic_gross', 'worldwide_gross', 'approx_profit',\n",
       "       'approx_profit_perc', 'year_of_release', 'month_of_release'],\n",
       "      dtype='object')"
      ]
     },
     "execution_count": 39,
     "metadata": {},
     "output_type": "execute_result"
    }
   ],
   "source": [
    "movie_budget_ratings.columns"
   ]
  },
  {
   "cell_type": "code",
   "execution_count": 58,
   "id": "2d21ff87-e87b-464c-9274-ece3a708a146",
   "metadata": {},
   "outputs": [],
   "source": [
    "X=movie_budget_ratings[['production_budget','runtime_minutes','year_of_release','worldwide_gross']]\n",
    "y=movie_budget_ratings['averagerating']"
   ]
  },
  {
   "cell_type": "code",
   "execution_count": 59,
   "id": "d9504a83-aed8-4408-9717-3fd793b9c0fc",
   "metadata": {},
   "outputs": [],
   "source": [
    "from sklearn.model_selection import train_test_split"
   ]
  },
  {
   "cell_type": "code",
   "execution_count": 60,
   "id": "b24df7ee-a9ed-4052-ad91-0191c54d8be5",
   "metadata": {},
   "outputs": [],
   "source": [
    "X_train, X_test, y_train, y_test = train_test_split(X, y, test_size=0.33, random_state=101)"
   ]
  },
  {
   "cell_type": "code",
   "execution_count": 61,
   "id": "f20755b2-dec6-438e-8fae-cf49c6539cca",
   "metadata": {},
   "outputs": [],
   "source": [
    "from sklearn.linear_model import LinearRegression"
   ]
  },
  {
   "cell_type": "code",
   "execution_count": 62,
   "id": "0c2e6b7f-b572-44db-aead-178147566142",
   "metadata": {},
   "outputs": [],
   "source": [
    "lm = LinearRegression()"
   ]
  },
  {
   "cell_type": "code",
   "execution_count": 63,
   "id": "b35f1427-0204-46db-b68b-7fcfddfa3d12",
   "metadata": {},
   "outputs": [
    {
     "data": {
      "text/plain": [
       "LinearRegression()"
      ]
     },
     "execution_count": 63,
     "metadata": {},
     "output_type": "execute_result"
    }
   ],
   "source": [
    "lm.fit(X_train,y_train)"
   ]
  },
  {
   "cell_type": "code",
   "execution_count": 64,
   "id": "a8dcd6a8-525a-41e7-87b2-828aea0f3b61",
   "metadata": {},
   "outputs": [
    {
     "data": {
      "text/html": [
       "<div>\n",
       "<style scoped>\n",
       "    .dataframe tbody tr th:only-of-type {\n",
       "        vertical-align: middle;\n",
       "    }\n",
       "\n",
       "    .dataframe tbody tr th {\n",
       "        vertical-align: top;\n",
       "    }\n",
       "\n",
       "    .dataframe thead th {\n",
       "        text-align: right;\n",
       "    }\n",
       "</style>\n",
       "<table border=\"1\" class=\"dataframe\">\n",
       "  <thead>\n",
       "    <tr style=\"text-align: right;\">\n",
       "      <th></th>\n",
       "      <th>Coefficient</th>\n",
       "    </tr>\n",
       "  </thead>\n",
       "  <tbody>\n",
       "    <tr>\n",
       "      <th>production_budget</th>\n",
       "      <td>-3.540550e-09</td>\n",
       "    </tr>\n",
       "    <tr>\n",
       "      <th>runtime_minutes</th>\n",
       "      <td>2.038147e-02</td>\n",
       "    </tr>\n",
       "    <tr>\n",
       "      <th>year_of_release</th>\n",
       "      <td>-2.773743e-04</td>\n",
       "    </tr>\n",
       "    <tr>\n",
       "      <th>worldwide_gross</th>\n",
       "      <td>1.197066e-09</td>\n",
       "    </tr>\n",
       "  </tbody>\n",
       "</table>\n",
       "</div>"
      ],
      "text/plain": [
       "                    Coefficient\n",
       "production_budget -3.540550e-09\n",
       "runtime_minutes    2.038147e-02\n",
       "year_of_release   -2.773743e-04\n",
       "worldwide_gross    1.197066e-09"
      ]
     },
     "execution_count": 64,
     "metadata": {},
     "output_type": "execute_result"
    }
   ],
   "source": [
    "coeff_df = pd.DataFrame(lm.coef_,X.columns,columns=['Coefficient'])\n",
    "coeff_df"
   ]
  },
  {
   "cell_type": "code",
   "execution_count": 65,
   "id": "cbcfa700-7986-47e2-aaad-3632c470336e",
   "metadata": {},
   "outputs": [],
   "source": [
    "predictions = lm.predict(X_test)"
   ]
  },
  {
   "cell_type": "code",
   "execution_count": 66,
   "id": "2171cbca-f498-4595-821a-3f59e723a44b",
   "metadata": {},
   "outputs": [
    {
     "data": {
      "text/plain": [
       "<matplotlib.collections.PathCollection at 0x2019e076ee0>"
      ]
     },
     "execution_count": 66,
     "metadata": {},
     "output_type": "execute_result"
    },
    {
     "data": {
      "image/png": "[encoded data removed]",
      "text/plain": [
       "<Figure size 432x288 with 1 Axes>"
      ]
     },
     "metadata": {},
     "output_type": "display_data"
    }
   ],
   "source": [
    "plt.scatter(y_test,predictions)"
   ]
  },
  {
   "cell_type": "markdown",
   "id": "fab1eb15-b57f-4471-a92d-7409190d379b",
   "metadata": {},
   "source": [
    "linear regression model taken for ratings vs production_budget"
   ]
  },
  {
   "cell_type": "code",
   "execution_count": 67,
   "id": "920b50a9-d23d-4720-bb2b-5a418c07f064",
   "metadata": {},
   "outputs": [],
   "source": [
    "from sklearn.feature_extraction.text import CountVectorizer\n",
    "from sklearn.metrics.pairwise import cosine_similarity"
   ]
  },
  {
   "cell_type": "markdown",
   "id": "3e63b74a-820a-4bb9-966c-e1bf12bdd96c",
   "metadata": {},
   "source": [
    "Cosine Similarity measures the similarity between two vectors determines if the vectors are pointing roughly in the same direction. here it measures the document similarity in text analysis"
   ]
  },
  {
   "cell_type": "code",
   "execution_count": 68,
   "id": "65448d55-96bd-4364-96d8-7b9cd91a36e1",
   "metadata": {},
   "outputs": [
    {
     "data": {
      "text/plain": [
       "(1535, 22)"
      ]
     },
     "execution_count": 68,
     "metadata": {},
     "output_type": "execute_result"
    }
   ],
   "source": [
    "count_vect = CountVectorizer()\n",
    "count_vect.fit_transform(movie_budget_ratings['genres']).toarray().shape"
   ]
  },
  {
   "cell_type": "code",
   "execution_count": 69,
   "id": "8cae6455-03a2-4e65-8fbf-b81971a84307",
   "metadata": {},
   "outputs": [
    {
     "data": {
      "text/plain": [
       "array([[1, 1, 0, ..., 0, 0, 0],\n",
       "       [0, 0, 0, ..., 0, 0, 0],\n",
       "       [0, 0, 0, ..., 0, 0, 0],\n",
       "       ...,\n",
       "       [0, 0, 0, ..., 0, 0, 0],\n",
       "       [0, 0, 0, ..., 0, 0, 0],\n",
       "       [0, 0, 0, ..., 1, 0, 0]], dtype=int64)"
      ]
     },
     "execution_count": 69,
     "metadata": {},
     "output_type": "execute_result"
    }
   ],
   "source": [
    "vectors = count_vect.fit_transform(movie_budget_ratings['genres']).toarray()\n",
    "vectors"
   ]
  },
  {
   "cell_type": "code",
   "execution_count": 70,
   "id": "83a27be2-eb04-49bb-bc7a-d9e063aa44eb",
   "metadata": {},
   "outputs": [
    {
     "name": "stderr",
     "output_type": "stream",
     "text": [
      "C:\\Users\\ADMIN\\Anaconda3\\Anaconda3\\lib\\site-packages\\sklearn\\utils\\deprecation.py:87: FutureWarning: Function get_feature_names is deprecated; get_feature_names is deprecated in 1.0 and will be removed in 1.2. Please use get_feature_names_out instead.\n",
      "  warnings.warn(msg, category=FutureWarning)\n"
     ]
    },
    {
     "data": {
      "text/plain": [
       "22"
      ]
     },
     "execution_count": 70,
     "metadata": {},
     "output_type": "execute_result"
    }
   ],
   "source": [
    "len(count_vect.get_feature_names())"
   ]
  },
  {
   "cell_type": "code",
   "execution_count": 71,
   "id": "372dad47-14b7-412a-ada0-21c04b697b94",
   "metadata": {},
   "outputs": [
    {
     "data": {
      "text/plain": [
       "array([[1.        , 0.        , 0.        , ..., 0.        , 0.        ,\n",
       "        0.        ],\n",
       "       [0.        , 1.        , 0.        , ..., 0.33333333, 0.33333333,\n",
       "        0.        ],\n",
       "       [0.        , 0.        , 1.        , ..., 0.57735027, 0.        ,\n",
       "        0.        ],\n",
       "       ...,\n",
       "       [0.        , 0.33333333, 0.57735027, ..., 1.        , 0.66666667,\n",
       "        0.        ],\n",
       "       [0.        , 0.33333333, 0.        , ..., 0.66666667, 1.        ,\n",
       "        0.        ],\n",
       "       [0.        , 0.        , 0.        , ..., 0.        , 0.        ,\n",
       "        1.        ]])"
      ]
     },
     "execution_count": 71,
     "metadata": {},
     "output_type": "execute_result"
    }
   ],
   "source": [
    "cosine_mat = cosine_similarity(vectors)\n",
    "cosine_mat"
   ]
  },
  {
   "cell_type": "code",
   "execution_count": 72,
   "id": "4bf87388-9780-4117-bff2-893c622b3782",
   "metadata": {},
   "outputs": [
    {
     "data": {
      "text/plain": [
       "(1535, 1535)"
      ]
     },
     "execution_count": 72,
     "metadata": {},
     "output_type": "execute_result"
    }
   ],
   "source": [
    "cosine_similarity(vectors).shape"
   ]
  },
  {
   "cell_type": "code",
   "execution_count": 73,
   "id": "755a1ff2-c876-48b8-8536-b815840590b0",
   "metadata": {},
   "outputs": [
    {
     "data": {
      "text/plain": [
       "array([1., 0., 0., ..., 0., 0., 0.])"
      ]
     },
     "execution_count": 73,
     "metadata": {},
     "output_type": "execute_result"
    }
   ],
   "source": [
    "similarity = cosine_similarity(vectors)\n",
    "similarity[0]"
   ]
  },
  {
   "cell_type": "code",
   "execution_count": 74,
   "id": "0d7703d7-6fa8-498f-9422-b47bbf223e2e",
   "metadata": {},
   "outputs": [
    {
     "data": {
      "text/plain": [
       "[(39, 1.0000000000000002),\n",
       " (74, 1.0000000000000002),\n",
       " (77, 1.0000000000000002),\n",
       " (109, 1.0000000000000002),\n",
       " (167, 1.0000000000000002)]"
      ]
     },
     "execution_count": 74,
     "metadata": {},
     "output_type": "execute_result"
    }
   ],
   "source": [
    "sorted(list(enumerate(similarity[0])), reverse=True, key=lambda x:x[1])[1:6]"
   ]
  },
  {
   "cell_type": "code",
   "execution_count": 95,
   "id": "f40c2500-c84f-449d-ba4b-868525dbfa7a",
   "metadata": {},
   "outputs": [],
   "source": [
    "def recommend(genre):\n",
    "    genre_index = movie_budget_ratings[movie_budget_ratings['genres']==genre].index[0]\n",
    "    distances = similarity[genre_index]\n",
    "    genre_list = sorted(list(enumerate(distances)), reverse=True, key=lambda x:x[1])[1:6]\n",
    "    for i in genre_list:\n",
    "        print(movie_budget_ratings.iloc[i[0]].genres)"
   ]
  },
  {
   "cell_type": "code",
   "execution_count": 96,
   "id": "e1463bf4-139a-4e5b-97d7-457a12f984f0",
   "metadata": {},
   "outputs": [
    {
     "name": "stdout",
     "output_type": "stream",
     "text": [
      "Adventure,Fantasy\n",
      "Comedy,Fantasy\n",
      "Comedy,Fantasy\n",
      "Drama,Fantasy\n",
      "Adventure,Fantasy\n"
     ]
    }
   ],
   "source": [
    "recommend('Fantasy')"
   ]
  },
  {
   "cell_type": "code",
   "execution_count": 97,
   "id": "f90b2b3d-46ea-46af-a218-cd55693e3ae9",
   "metadata": {},
   "outputs": [
    {
     "name": "stdout",
     "output_type": "stream",
     "text": [
      "Action\n",
      "Action,Thriller\n",
      "Action,Thriller\n",
      "Action,Thriller\n",
      "Action,Thriller\n"
     ]
    }
   ],
   "source": [
    "recommend('Action')"
   ]
  },
  {
   "cell_type": "code",
   "execution_count": 98,
   "id": "f6c2b70e-3fe8-4f59-b623-b857202de7eb",
   "metadata": {},
   "outputs": [],
   "source": [
    "def recommend(movie):\n",
    "    movie_index = movie_budget_ratings[movie_budget_ratings['primary_title']==movie].index[0]\n",
    "    distances = similarity[movie_index]\n",
    "    movie_list = sorted(list(enumerate(distances)), reverse=True, key=lambda x:x[1])[1:6]\n",
    "    for i in movie_list:\n",
    "        print(movie_budget_ratings.iloc[i[0]].primary_title)"
   ]
  },
  {
   "cell_type": "code",
   "execution_count": 99,
   "id": "80003e0a-259d-4108-8df6-e60206713179",
   "metadata": {},
   "outputs": [
    {
     "name": "stdout",
     "output_type": "stream",
     "text": [
      "hell fest\n",
      "creature\n",
      "trance\n",
      "paranormal activity 2\n",
      "raymond did it\n"
     ]
    }
   ],
   "source": [
    "recommend('avatar')"
   ]
  },
  {
   "cell_type": "code",
   "execution_count": 100,
   "id": "2f103250-8a65-4f70-a7d1-985557f470e7",
   "metadata": {},
   "outputs": [
    {
     "name": "stdout",
     "output_type": "stream",
     "text": [
      "moneyball\n",
      "chasing mavericks\n",
      "42\n",
      "unbroken\n",
      "the fighter\n"
     ]
    }
   ],
   "source": [
    "recommend('the hammer')"
   ]
  },
  {
   "cell_type": "code",
   "execution_count": 101,
   "id": "ad805068-0a6c-43a8-888a-5faf9573fc26",
   "metadata": {},
   "outputs": [
    {
     "name": "stdout",
     "output_type": "stream",
     "text": [
      "the amazing spider-man\n",
      "mad max: fury road\n",
      "dark phoenix\n",
      "pacific rim\n",
      "x-men: days of future past\n"
     ]
    }
   ],
   "source": [
    "recommend('the avengers')"
   ]
  },
  {
   "cell_type": "markdown",
   "id": "4688c095-8bed-4f68-8e14-e6c5faed32c2",
   "metadata": {},
   "source": [
    "we can see that the recommendation system works, one can be able to select certain movies or genre and be able to get recommendations based on the genre the movie is in."
   ]
  },
  {
   "cell_type": "code",
   "execution_count": null,
   "id": "a6127f49-c991-42c5-a2a0-93a991015653",
   "metadata": {},
   "outputs": [],
   "source": []
  }
 ],
 "metadata": {
  "kernelspec": {
   "display_name": "Python 3 (ipykernel)",
   "language": "python",
   "name": "python3"
  },
  "language_info": {
   "codemirror_mode": {
    "name": "ipython",
    "version": 3
   },
   "file_extension": ".py",
   "mimetype": "text/x-python",
   "name": "python",
   "nbconvert_exporter": "python",
   "pygments_lexer": "ipython3",
   "version": "3.9.12"
  }
 },
 "nbformat": 4,
 "nbformat_minor": 5
}
